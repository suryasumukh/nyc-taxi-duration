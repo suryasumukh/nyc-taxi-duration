{
 "cells": [
  {
   "cell_type": "code",
   "execution_count": 1,
   "metadata": {
    "collapsed": true
   },
   "outputs": [],
   "source": [
    "%load_ext autoreload\n",
    "%autoreload 2"
   ]
  },
  {
   "cell_type": "code",
   "execution_count": 2,
   "metadata": {
    "collapsed": true
   },
   "outputs": [],
   "source": [
    "%matplotlib inline\n",
    "from utils import preprocess"
   ]
  },
  {
   "cell_type": "code",
   "execution_count": 3,
   "metadata": {
    "collapsed": true
   },
   "outputs": [],
   "source": [
    "import numpy as np\n",
    "import pandas as pd\n",
    "import os"
   ]
  },
  {
   "cell_type": "code",
   "execution_count": 4,
   "metadata": {
    "collapsed": true
   },
   "outputs": [],
   "source": [
    "from sklearn.model_selection import train_test_split\n",
    "from sklearn.metrics import mean_squared_error"
   ]
  },
  {
   "cell_type": "code",
   "execution_count": 5,
   "metadata": {},
   "outputs": [
    {
     "name": "stderr",
     "output_type": "stream",
     "text": [
      "Using TensorFlow backend.\n"
     ]
    }
   ],
   "source": [
    "from keras.models import Model\n",
    "from keras.layers import Dense, Activation, Dropout\n",
    "from keras.layers import Input"
   ]
  },
  {
   "cell_type": "code",
   "execution_count": 6,
   "metadata": {
    "collapsed": true
   },
   "outputs": [],
   "source": [
    "DATA_PATH = os.path.join('../data')\n",
    "TRAIN_FILE = os.path.join(DATA_PATH, 'train.csv')\n",
    "TEST_FILE = os.path.join(DATA_PATH, 'test.csv')"
   ]
  },
  {
   "cell_type": "code",
   "execution_count": 7,
   "metadata": {
    "collapsed": true
   },
   "outputs": [],
   "source": [
    "train_features = preprocess(TRAIN_FILE)"
   ]
  },
  {
   "cell_type": "code",
   "execution_count": 8,
   "metadata": {},
   "outputs": [
    {
     "data": {
      "text/plain": [
       "Index([u'id', u'vendor_id', u'pickup_datetime', u'dropoff_datetime',\n",
       "       u'passenger_count', u'pickup_longitude', u'pickup_latitude',\n",
       "       u'dropoff_longitude', u'dropoff_latitude', u'store_and_fwd_flag',\n",
       "       u'trip_duration', u'pickup_hr', u'pickup_min', u'pickup_sec',\n",
       "       u'pickup_day', u'pickup_date', u'pickup_mon', u'quarter', u'weekday',\n",
       "       u'holiday', u'st_dist', u'h_dist', u'bearing', u's_pickup_latitude',\n",
       "       u's_pickup_longitude', u's_dropoff_latitude', u's_dropoff_longitude',\n",
       "       u'flag', u'month_end', u'month_start', u'pickup_cluster_label',\n",
       "       u'dropoff_cluster_label', u'pickup_cluster_longitude',\n",
       "       u'pickup_cluster_latitude', u'dropoff_cluster_longitude',\n",
       "       u'dropoff_cluster_latitude', u'cluster_dist',\n",
       "       u's_pickup_cluster_latitude', u's_pickup_cluster_longitude',\n",
       "       u's_dropoff_cluster_latitude', u's_dropoff_cluster_longitude',\n",
       "       u'id_count', u'id_count_hr', u'traffic_hr_cluster'],\n",
       "      dtype='object')"
      ]
     },
     "execution_count": 8,
     "metadata": {},
     "output_type": "execute_result"
    }
   ],
   "source": [
    "train_features.columns"
   ]
  },
  {
   "cell_type": "code",
   "execution_count": 9,
   "metadata": {
    "collapsed": true
   },
   "outputs": [],
   "source": [
    "train_features['bearing'] = train_features['bearing']/360.\n",
    "train_features['h_dist'] = np.log(train_features['h_dist'] + 0.1)\n",
    "train_features['cluster_dist'] = np.log(train_features['cluster_dist'] + 0.1)\n",
    "train_features['traffic_hr_cluster'] = np.log(train_features['traffic_hr_cluster'] + 0.1)"
   ]
  },
  {
   "cell_type": "code",
   "execution_count": 10,
   "metadata": {},
   "outputs": [
    {
     "data": {
      "text/plain": [
       "Index([u'id', u'vendor_id', u'pickup_datetime', u'dropoff_datetime',\n",
       "       u'passenger_count', u'pickup_longitude', u'pickup_latitude',\n",
       "       u'dropoff_longitude', u'dropoff_latitude', u'store_and_fwd_flag',\n",
       "       u'trip_duration', u'pickup_hr', u'pickup_min', u'pickup_sec',\n",
       "       u'pickup_day', u'pickup_date', u'pickup_mon', u'quarter', u'weekday',\n",
       "       u'holiday', u'st_dist', u'h_dist', u'bearing', u's_pickup_latitude',\n",
       "       u's_pickup_longitude', u's_dropoff_latitude', u's_dropoff_longitude',\n",
       "       u'flag', u'month_end', u'month_start', u'pickup_cluster_label',\n",
       "       u'dropoff_cluster_label', u'pickup_cluster_longitude',\n",
       "       u'pickup_cluster_latitude', u'dropoff_cluster_longitude',\n",
       "       u'dropoff_cluster_latitude', u'cluster_dist',\n",
       "       u's_pickup_cluster_latitude', u's_pickup_cluster_longitude',\n",
       "       u's_dropoff_cluster_latitude', u's_dropoff_cluster_longitude',\n",
       "       u'id_count', u'id_count_hr', u'traffic_hr_cluster'],\n",
       "      dtype='object')"
      ]
     },
     "execution_count": 10,
     "metadata": {},
     "output_type": "execute_result"
    }
   ],
   "source": [
    "train_features.columns"
   ]
  },
  {
   "cell_type": "code",
   "execution_count": 11,
   "metadata": {
    "collapsed": true
   },
   "outputs": [],
   "source": [
    "categorical_features = [u'vendor_id', u'pickup_hr', u'pickup_min', u'pickup_sec',\n",
    "       u'pickup_day', u'pickup_date', u'pickup_mon', u'pickup_cluster_label',\n",
    "       u'dropoff_cluster_label']\n",
    "\n",
    "for feature in categorical_features:\n",
    "    dummies = pd.get_dummies(train_features[feature], prefix=feature, drop_first=False)\n",
    "    train_features = pd.concat([train_features, dummies], axis=1)"
   ]
  },
  {
   "cell_type": "code",
   "execution_count": 12,
   "metadata": {
    "collapsed": true
   },
   "outputs": [],
   "source": [
    "fields_to_drop = [u'vendor_id', u'id', u'pickup_datetime', u'dropoff_datetime',\n",
    "       u'pickup_longitude', u'pickup_latitude',\n",
    "       u'dropoff_longitude', u'dropoff_latitude', u'store_and_fwd_flag',\n",
    "       u'pickup_hr', u'pickup_min', u'pickup_sec',\n",
    "       u'pickup_day', u'pickup_date', u'pickup_mon', u'quarter',\n",
    "       u'st_dist', u'pickup_cluster_label',\n",
    "       u'dropoff_cluster_label', u'pickup_cluster_longitude',\n",
    "       u'pickup_cluster_latitude', u'dropoff_cluster_longitude',\n",
    "       u'dropoff_cluster_latitude', u'trip_duration', u'id_count', u'id_count_hr']\n",
    "data = train_features.drop(fields_to_drop, axis=1)"
   ]
  },
  {
   "cell_type": "code",
   "execution_count": 13,
   "metadata": {
    "collapsed": true
   },
   "outputs": [],
   "source": [
    "X = data.as_matrix()\n",
    "y = train_features['trip_duration']"
   ]
  },
  {
   "cell_type": "code",
   "execution_count": 14,
   "metadata": {},
   "outputs": [
    {
     "name": "stdout",
     "output_type": "stream",
     "text": [
      "(1458644, 240)\n",
      "(1458644,)\n"
     ]
    }
   ],
   "source": [
    "print X.shape\n",
    "print y.shape"
   ]
  },
  {
   "cell_type": "code",
   "execution_count": 15,
   "metadata": {
    "collapsed": true
   },
   "outputs": [],
   "source": [
    "X_train, X_test, y_train, y_test = train_test_split(X, y, test_size=0.2)"
   ]
  },
  {
   "cell_type": "code",
   "execution_count": 16,
   "metadata": {
    "collapsed": true
   },
   "outputs": [],
   "source": [
    "from keras.optimizers import Adam, RMSprop"
   ]
  },
  {
   "cell_type": "code",
   "execution_count": 17,
   "metadata": {
    "collapsed": true
   },
   "outputs": [],
   "source": [
    "from keras.layers import BatchNormalization"
   ]
  },
  {
   "cell_type": "code",
   "execution_count": 18,
   "metadata": {
    "collapsed": true
   },
   "outputs": [],
   "source": [
    "from keras import backend as K\n",
    "def root_mean_squared_logarithmic_error(y_true, y_pred):\n",
    "    #y_pred = K.round(y_pred)\n",
    "    first_log = K.log(K.clip(y_pred, K.epsilon(), None) + 1.)\n",
    "    second_log = K.log(K.clip(y_true, K.epsilon(), None) + 1.)\n",
    "    return K.sqrt(K.mean(K.square(first_log - second_log)))\n",
    "\n",
    "rmsle = root_mean_squared_logarithmic_error"
   ]
  },
  {
   "cell_type": "code",
   "execution_count": 19,
   "metadata": {},
   "outputs": [
    {
     "name": "stdout",
     "output_type": "stream",
     "text": [
      "3.90625e-06\n"
     ]
    }
   ],
   "source": [
    "learning_rate = 0.001\n",
    "print learning_rate/256"
   ]
  },
  {
   "cell_type": "code",
   "execution_count": 20,
   "metadata": {
    "collapsed": true
   },
   "outputs": [],
   "source": [
    "num_features = X_train.shape[-1]\n",
    "_input = Input(shape=(num_features,))\n",
    "#_norm = BatchNormalization()(_input)\n",
    "layer1 = Dense(150, activation='linear')(_input)\n",
    "layer1 = Dropout(0.2)(layer1)\n",
    "layer2 = Dense(20, activation='relu')(layer1)\n",
    "_output = Dense(1, activation='relu')(layer2)\n",
    "\n",
    "model = Model(inputs=[_input], outputs=[_output])\n",
    "optimizer = Adam(learning_rate)\n",
    "model.compile(optimizer=optimizer,\n",
    "             loss=rmsle)"
   ]
  },
  {
   "cell_type": "code",
   "execution_count": 21,
   "metadata": {},
   "outputs": [
    {
     "name": "stdout",
     "output_type": "stream",
     "text": [
      "Train on 933532 samples, validate on 233383 samples\n",
      "Epoch 1/50\n",
      "933532/933532 [==============================] - 24s - loss: 0.6986 - val_loss: 0.4837\n",
      "Epoch 2/50\n",
      "933532/933532 [==============================] - 22s - loss: 0.4731 - val_loss: 0.4724\n",
      "Epoch 3/50\n",
      "933532/933532 [==============================] - 22s - loss: 0.4683 - val_loss: 0.4697\n",
      "Epoch 4/50\n",
      "933532/933532 [==============================] - 22s - loss: 0.4662 - val_loss: 0.4682\n",
      "Epoch 5/50\n",
      "933532/933532 [==============================] - 21s - loss: 0.4651 - val_loss: 0.4673\n",
      "Epoch 6/50\n",
      "933532/933532 [==============================] - 21s - loss: 0.4641 - val_loss: 0.4664\n",
      "Epoch 7/50\n",
      "933532/933532 [==============================] - 21s - loss: 0.4620 - val_loss: 0.4637\n",
      "Epoch 8/50\n",
      "933532/933532 [==============================] - 21s - loss: 0.4599 - val_loss: 0.4608\n",
      "Epoch 9/50\n",
      "933532/933532 [==============================] - 21s - loss: 0.4572 - val_loss: 0.4588\n",
      "Epoch 10/50\n",
      "933532/933532 [==============================] - 22s - loss: 0.4562 - val_loss: 0.4590\n",
      "Epoch 11/50\n",
      "933532/933532 [==============================] - 21s - loss: 0.4555 - val_loss: 0.4587\n",
      "Epoch 12/50\n",
      "933532/933532 [==============================] - 21s - loss: 0.4553 - val_loss: 0.4579\n",
      "Epoch 13/50\n",
      "933532/933532 [==============================] - 21s - loss: 0.4548 - val_loss: 0.4573\n",
      "Epoch 14/50\n",
      "933532/933532 [==============================] - 21s - loss: 0.4544 - val_loss: 0.4572\n",
      "Epoch 15/50\n",
      "933532/933532 [==============================] - 21s - loss: 0.4539 - val_loss: 0.4571\n",
      "Epoch 16/50\n",
      "933532/933532 [==============================] - 21s - loss: 0.4535 - val_loss: 0.4568\n",
      "Epoch 17/50\n",
      "933532/933532 [==============================] - 21s - loss: 0.4531 - val_loss: 0.4567\n",
      "Epoch 18/50\n",
      "933532/933532 [==============================] - 22s - loss: 0.4526 - val_loss: 0.4574\n",
      "Epoch 19/50\n",
      "933532/933532 [==============================] - 22s - loss: 0.4526 - val_loss: 0.4569\n",
      "Epoch 20/50\n",
      "933532/933532 [==============================] - 22s - loss: 0.4523 - val_loss: 0.4561\n",
      "Epoch 21/50\n",
      "933532/933532 [==============================] - 21s - loss: 0.4522 - val_loss: 0.4565\n",
      "Epoch 22/50\n",
      "933532/933532 [==============================] - 22s - loss: 0.4520 - val_loss: 0.4559\n",
      "Epoch 23/50\n",
      "933532/933532 [==============================] - 21s - loss: 0.4514 - val_loss: 0.4562\n",
      "Epoch 24/50\n",
      "933532/933532 [==============================] - 22s - loss: 0.4515 - val_loss: 0.4558\n",
      "Epoch 25/50\n",
      "933532/933532 [==============================] - 22s - loss: 0.4512 - val_loss: 0.4563\n",
      "Epoch 26/50\n",
      "933532/933532 [==============================] - 22s - loss: 0.4514 - val_loss: 0.4558\n",
      "Epoch 27/50\n",
      "933532/933532 [==============================] - 21s - loss: 0.4512 - val_loss: 0.4557\n",
      "Epoch 28/50\n",
      "933532/933532 [==============================] - 22s - loss: 0.4506 - val_loss: 0.4556\n",
      "Epoch 29/50\n",
      "933532/933532 [==============================] - 22s - loss: 0.4505 - val_loss: 0.4554\n",
      "Epoch 30/50\n",
      "933532/933532 [==============================] - 22s - loss: 0.4509 - val_loss: 0.4555\n",
      "Epoch 31/50\n",
      "933532/933532 [==============================] - 22s - loss: 0.4504 - val_loss: 0.4559\n",
      "Epoch 32/50\n",
      "933532/933532 [==============================] - 22s - loss: 0.4502 - val_loss: 0.4553\n",
      "Epoch 33/50\n",
      "933532/933532 [==============================] - 22s - loss: 0.4500 - val_loss: 0.4554\n",
      "Epoch 34/50\n",
      "933532/933532 [==============================] - 21s - loss: 0.4499 - val_loss: 0.4551\n",
      "Epoch 35/50\n",
      "933532/933532 [==============================] - 21s - loss: 0.4494 - val_loss: 0.4549\n",
      "Epoch 36/50\n",
      "933532/933532 [==============================] - 22s - loss: 0.4495 - val_loss: 0.4546\n",
      "Epoch 37/50\n",
      "933532/933532 [==============================] - 22s - loss: 0.4491 - val_loss: 0.4549\n",
      "Epoch 38/50\n",
      "933532/933532 [==============================] - 22s - loss: 0.4486 - val_loss: 0.4543\n",
      "Epoch 39/50\n",
      "933532/933532 [==============================] - 21s - loss: 0.4485 - val_loss: 0.4545\n",
      "Epoch 40/50\n",
      "933532/933532 [==============================] - 22s - loss: 0.4481 - val_loss: 0.4544\n",
      "Epoch 41/50\n",
      "933532/933532 [==============================] - 22s - loss: 0.4482 - val_loss: 0.4539\n",
      "Epoch 42/50\n",
      "933532/933532 [==============================] - 21s - loss: 0.4482 - val_loss: 0.4541\n",
      "Epoch 43/50\n",
      "933532/933532 [==============================] - 22s - loss: 0.4482 - val_loss: 0.4541\n",
      "Epoch 44/50\n",
      "933532/933532 [==============================] - 22s - loss: 0.4479 - val_loss: 0.4541\n",
      "Epoch 45/50\n",
      "933532/933532 [==============================] - 22s - loss: 0.4477 - val_loss: 0.4539\n",
      "Epoch 46/50\n",
      "933532/933532 [==============================] - 23s - loss: 0.4478 - val_loss: 0.4557\n",
      "Epoch 47/50\n",
      "933532/933532 [==============================] - 22s - loss: 0.4475 - val_loss: 0.4542\n",
      "Epoch 48/50\n",
      "933532/933532 [==============================] - 22s - loss: 0.4474 - val_loss: 0.4541\n",
      "Epoch 49/50\n",
      "933532/933532 [==============================] - 22s - loss: 0.4475 - val_loss: 0.4536\n",
      "Epoch 50/50\n",
      "933532/933532 [==============================] - 22s - loss: 0.4473 - val_loss: 0.4540\n"
     ]
    }
   ],
   "source": [
    "from keras.callbacks import ModelCheckpoint\n",
    "from keras.callbacks import ReduceLROnPlateau, LearningRateScheduler\n",
    "\n",
    "checkpoint = ModelCheckpoint('weights1.h5', save_best_only=True,\n",
    "                             monitor='val_loss', verbose=0)\n",
    "reduce_lr = ReduceLROnPlateau(monitor='loss', factor=0.2,\n",
    "              patience=10, verbose=1)\n",
    "\n",
    "def scheduler(epoch):\n",
    "    if epoch < 40:\n",
    "        return learning_rate\n",
    "    if epoch > 40 and epoch < 80:\n",
    "        return learning_rate * 0.1\n",
    "    else:\n",
    "        return learning_rate * 0.05\n",
    "    \n",
    "lr_scheduler = LearningRateScheduler(scheduler)\n",
    "\n",
    "results = model.fit(X_train, y_train, \n",
    "                    batch_size=256,\n",
    "                    epochs=50, callbacks=[checkpoint],\n",
    "                    validation_split=0.2)"
   ]
  },
  {
   "cell_type": "code",
   "execution_count": 22,
   "metadata": {},
   "outputs": [
    {
     "data": {
      "image/png": "[encoded data removed]",
      "text/plain": [
       "<matplotlib.figure.Figure at 0x12fdd0f10>"
      ]
     },
     "metadata": {},
     "output_type": "display_data"
    }
   ],
   "source": [
    "from matplotlib import pyplot as plt\n",
    "plt.plot(results.epoch, np.log(results.history['loss']), label='loss')\n",
    "plt.plot(results.epoch, np.log(results.history['val_loss']), label='val_loss')\n",
    "plt.xlabel('Epoch')\n",
    "plt.ylabel('RMSLE')\n",
    "plt.legend()\n",
    "plt.show()"
   ]
  },
  {
   "cell_type": "code",
   "execution_count": 103,
   "metadata": {
    "collapsed": true
   },
   "outputs": [],
   "source": [
    "model.load_weights('weights1.h5')"
   ]
  },
  {
   "cell_type": "code",
   "execution_count": 104,
   "metadata": {},
   "outputs": [
    {
     "name": "stdout",
     "output_type": "stream",
     "text": [
      "Test MSE: 23842421.3814\n"
     ]
    }
   ],
   "source": [
    "y_test_hat = model.predict(X_test)\n",
    "print 'Test MSE: {}'.format(mean_squared_error(y_test, y_test_hat))"
   ]
  },
  {
   "cell_type": "code",
   "execution_count": 105,
   "metadata": {},
   "outputs": [
    {
     "name": "stdout",
     "output_type": "stream",
     "text": [
      "0.445249\n"
     ]
    }
   ],
   "source": [
    "test_loss = []\n",
    "for yt, yth in zip(y_test, y_test_hat):\n",
    "    diff = np.log(yt + 1.) - np.log(yth + 1.)\n",
    "    test_loss.append(diff ** 2)\n",
    "print np.sqrt(np.mean(test_loss))"
   ]
  },
  {
   "cell_type": "code",
   "execution_count": 84,
   "metadata": {},
   "outputs": [
    {
     "data": {
      "text/plain": [
       "0.0"
      ]
     },
     "execution_count": 84,
     "metadata": {},
     "output_type": "execute_result"
    }
   ],
   "source": [
    "np.min(y_test_hat)"
   ]
  },
  {
   "cell_type": "code",
   "execution_count": 85,
   "metadata": {
    "collapsed": true
   },
   "outputs": [],
   "source": [
    "test_features = preprocess(TEST_FILE)"
   ]
  },
  {
   "cell_type": "code",
   "execution_count": 86,
   "metadata": {
    "collapsed": true
   },
   "outputs": [],
   "source": [
    "test_features['bearing'] = test_features['bearing']/360.\n",
    "test_features['h_dist'] = np.log(test_features['h_dist'] + 0.1)\n",
    "test_features['cluster_dist'] = np.log(test_features['cluster_dist'] + 0.1)"
   ]
  },
  {
   "cell_type": "code",
   "execution_count": 87,
   "metadata": {
    "collapsed": true
   },
   "outputs": [],
   "source": [
    "for feature in categorical_features:\n",
    "    dummies = pd.get_dummies(test_features[feature], prefix=feature, drop_first=False)\n",
    "    test_features = pd.concat([test_features, dummies], axis=1)"
   ]
  },
  {
   "cell_type": "code",
   "execution_count": 88,
   "metadata": {
    "collapsed": true
   },
   "outputs": [],
   "source": [
    "fields_to_drop_test = fields_to_drop\n",
    "fields_to_drop_test.remove(u'dropoff_datetime')\n",
    "fields_to_drop_test.remove(u'trip_duration')\n",
    "test_ = test_features.drop(fields_to_drop_test, axis=1)"
   ]
  },
  {
   "cell_type": "code",
   "execution_count": 89,
   "metadata": {},
   "outputs": [
    {
     "name": "stdout",
     "output_type": "stream",
     "text": [
      "(625134, 1)\n"
     ]
    }
   ],
   "source": [
    "pred = model.predict(test_.as_matrix())\n",
    "print pred.shape"
   ]
  },
  {
   "cell_type": "code",
   "execution_count": 90,
   "metadata": {
    "collapsed": true
   },
   "outputs": [],
   "source": [
    "with open('predictions.txt', 'w') as _file:\n",
    "    _file.write('id,trip_duration\\n')\n",
    "    for tid, p in zip(test_features['id'], pred):\n",
    "        # tid, pred = example[0], model.predict(np.array([example[1:]]))\n",
    "        p = p[0]\n",
    "        _file.write('{},{}\\n'.format(tid, p))"
   ]
  },
  {
   "cell_type": "code",
   "execution_count": 91,
   "metadata": {},
   "outputs": [
    {
     "data": {
      "text/html": [
       "<div>\n",
       "<style>\n",
       "    .dataframe thead tr:only-child th {\n",
       "        text-align: right;\n",
       "    }\n",
       "\n",
       "    .dataframe thead th {\n",
       "        text-align: left;\n",
       "    }\n",
       "\n",
       "    .dataframe tbody tr th {\n",
       "        vertical-align: top;\n",
       "    }\n",
       "</style>\n",
       "<table border=\"1\" class=\"dataframe\">\n",
       "  <thead>\n",
       "    <tr style=\"text-align: right;\">\n",
       "      <th></th>\n",
       "      <th>0</th>\n",
       "    </tr>\n",
       "  </thead>\n",
       "  <tbody>\n",
       "    <tr>\n",
       "      <th>count</th>\n",
       "      <td>625134.000000</td>\n",
       "    </tr>\n",
       "    <tr>\n",
       "      <th>mean</th>\n",
       "      <td>799.977844</td>\n",
       "    </tr>\n",
       "    <tr>\n",
       "      <th>std</th>\n",
       "      <td>556.594238</td>\n",
       "    </tr>\n",
       "    <tr>\n",
       "      <th>min</th>\n",
       "      <td>0.000000</td>\n",
       "    </tr>\n",
       "    <tr>\n",
       "      <th>25%</th>\n",
       "      <td>414.327515</td>\n",
       "    </tr>\n",
       "    <tr>\n",
       "      <th>50%</th>\n",
       "      <td>647.970947</td>\n",
       "    </tr>\n",
       "    <tr>\n",
       "      <th>75%</th>\n",
       "      <td>1015.272949</td>\n",
       "    </tr>\n",
       "    <tr>\n",
       "      <th>max</th>\n",
       "      <td>8138.430176</td>\n",
       "    </tr>\n",
       "  </tbody>\n",
       "</table>\n",
       "</div>"
      ],
      "text/plain": [
       "                   0\n",
       "count  625134.000000\n",
       "mean      799.977844\n",
       "std       556.594238\n",
       "min         0.000000\n",
       "25%       414.327515\n",
       "50%       647.970947\n",
       "75%      1015.272949\n",
       "max      8138.430176"
      ]
     },
     "execution_count": 91,
     "metadata": {},
     "output_type": "execute_result"
    }
   ],
   "source": [
    "p = pd.DataFrame(pred)\n",
    "p.describe()"
   ]
  },
  {
   "cell_type": "code",
   "execution_count": 92,
   "metadata": {},
   "outputs": [
    {
     "data": {
      "text/html": [
       "<div>\n",
       "<style>\n",
       "    .dataframe thead tr:only-child th {\n",
       "        text-align: right;\n",
       "    }\n",
       "\n",
       "    .dataframe thead th {\n",
       "        text-align: left;\n",
       "    }\n",
       "\n",
       "    .dataframe tbody tr th {\n",
       "        vertical-align: top;\n",
       "    }\n",
       "</style>\n",
       "<table border=\"1\" class=\"dataframe\">\n",
       "  <thead>\n",
       "    <tr style=\"text-align: right;\">\n",
       "      <th></th>\n",
       "      <th>trip_duration</th>\n",
       "    </tr>\n",
       "  </thead>\n",
       "  <tbody>\n",
       "    <tr>\n",
       "      <th>count</th>\n",
       "      <td>1.166915e+06</td>\n",
       "    </tr>\n",
       "    <tr>\n",
       "      <th>mean</th>\n",
       "      <td>9.604737e+02</td>\n",
       "    </tr>\n",
       "    <tr>\n",
       "      <th>std</th>\n",
       "      <td>5.315027e+03</td>\n",
       "    </tr>\n",
       "    <tr>\n",
       "      <th>min</th>\n",
       "      <td>1.000000e+00</td>\n",
       "    </tr>\n",
       "    <tr>\n",
       "      <th>25%</th>\n",
       "      <td>3.970000e+02</td>\n",
       "    </tr>\n",
       "    <tr>\n",
       "      <th>50%</th>\n",
       "      <td>6.620000e+02</td>\n",
       "    </tr>\n",
       "    <tr>\n",
       "      <th>75%</th>\n",
       "      <td>1.075000e+03</td>\n",
       "    </tr>\n",
       "    <tr>\n",
       "      <th>max</th>\n",
       "      <td>3.526282e+06</td>\n",
       "    </tr>\n",
       "  </tbody>\n",
       "</table>\n",
       "</div>"
      ],
      "text/plain": [
       "       trip_duration\n",
       "count   1.166915e+06\n",
       "mean    9.604737e+02\n",
       "std     5.315027e+03\n",
       "min     1.000000e+00\n",
       "25%     3.970000e+02\n",
       "50%     6.620000e+02\n",
       "75%     1.075000e+03\n",
       "max     3.526282e+06"
      ]
     },
     "execution_count": 92,
     "metadata": {},
     "output_type": "execute_result"
    }
   ],
   "source": [
    "z = pd.DataFrame(y_train)\n",
    "z.describe()"
   ]
  },
  {
   "cell_type": "code",
   "execution_count": 93,
   "metadata": {},
   "outputs": [
    {
     "data": {
      "image/png": "[encoded data removed]",
      "text/plain": [
       "<matplotlib.figure.Figure at 0x115b7b8d0>"
      ]
     },
     "metadata": {},
     "output_type": "display_data"
    }
   ],
   "source": [
    "plt.hist(np.log(y_train + 0.1), bins=150, alpha=0.7, label='train', normed=True)\n",
    "plt.hist(np.log(pred + 0.1), bins=150, alpha=0.7, label='test pred', normed=True)\n",
    "plt.legend(loc='upper right')\n",
    "plt.show()"
   ]
  },
  {
   "cell_type": "code",
   "execution_count": null,
   "metadata": {
    "collapsed": true
   },
   "outputs": [],
   "source": []
  }
 ],
 "metadata": {
  "kernelspec": {
   "display_name": "Python 2",
   "language": "python",
   "name": "python2"
  },
  "language_info": {
   "codemirror_mode": {
    "name": "ipython",
    "version": 2
   },
   "file_extension": ".py",
   "mimetype": "text/x-python",
   "name": "python",
   "nbconvert_exporter": "python",
   "pygments_lexer": "ipython2",
   "version": "2.7.13"
  }
 },
 "nbformat": 4,
 "nbformat_minor": 2
}
