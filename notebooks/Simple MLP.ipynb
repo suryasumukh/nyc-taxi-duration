{
 "cells": [
  {
   "cell_type": "code",
   "execution_count": 1,
   "metadata": {
    "collapsed": true
   },
   "outputs": [],
   "source": [
    "%matplotlib inline\n",
    "from utils import preprocess"
   ]
  },
  {
   "cell_type": "code",
   "execution_count": 2,
   "metadata": {
    "collapsed": true
   },
   "outputs": [],
   "source": [
    "import numpy as np\n",
    "import pandas as pd\n",
    "import os"
   ]
  },
  {
   "cell_type": "code",
   "execution_count": 3,
   "metadata": {},
   "outputs": [
    {
     "name": "stderr",
     "output_type": "stream",
     "text": [
      "Using TensorFlow backend.\n"
     ]
    }
   ],
   "source": [
    "from keras.models import Model\n",
    "from keras.layers import Dense, Activation, Dropout\n",
    "from keras.layers import Input"
   ]
  },
  {
   "cell_type": "code",
   "execution_count": 4,
   "metadata": {
    "collapsed": true
   },
   "outputs": [],
   "source": [
    "DATA_PATH = os.path.join('../data')\n",
    "TRAIN_FILE = os.path.join(DATA_PATH, 'train.csv')\n",
    "TEST_FILE = os.path.join(DATA_PATH, 'test.csv')"
   ]
  },
  {
   "cell_type": "code",
   "execution_count": 5,
   "metadata": {},
   "outputs": [],
   "source": [
    "train_features = preprocess(TRAIN_FILE)\n",
    "test_features = preprocess(TEST_FILE)"
   ]
  },
  {
   "cell_type": "code",
   "execution_count": 6,
   "metadata": {
    "collapsed": true
   },
   "outputs": [],
   "source": [
    "train_features = train_features[['vendor_id', 'passenger_count',\n",
    "       'trip_duration', 'pickup_hr', 'pickup_min', 'pickup_sec',\n",
    "       'pickup_day', 'pickup_date', 'pickup_mon',\n",
    "       's_pickup_latitude', 's_pickup_longitude', 's_dropoff_latitude',\n",
    "       's_dropoff_longitude', 'flag', 'cityblock']]"
   ]
  },
  {
   "cell_type": "code",
   "execution_count": 7,
   "metadata": {
    "collapsed": true
   },
   "outputs": [],
   "source": [
    "test_features = test_features[['vendor_id', 'passenger_count','pickup_hr', 'pickup_min', 'pickup_sec',\n",
    "       'pickup_day', 'pickup_date', 'pickup_mon',\n",
    "       's_pickup_latitude', 's_pickup_longitude', 's_dropoff_latitude',\n",
    "       's_dropoff_longitude', 'flag', 'cityblock']]"
   ]
  },
  {
   "cell_type": "code",
   "execution_count": 8,
   "metadata": {
    "collapsed": true
   },
   "outputs": [],
   "source": [
    "X_train = train_features[['vendor_id', 'passenger_count',\n",
    "        'pickup_hr', 'pickup_min', 'pickup_sec',\n",
    "       'pickup_day', 'pickup_date', 'pickup_mon',\n",
    "       's_pickup_latitude', 's_pickup_longitude', 's_dropoff_latitude',\n",
    "       's_dropoff_longitude', 'flag', 'cityblock']].as_matrix()\n",
    "y_train = train_features['trip_duration']"
   ]
  },
  {
   "cell_type": "code",
   "execution_count": 9,
   "metadata": {
    "collapsed": true
   },
   "outputs": [],
   "source": [
    "X_test = test_features.as_matrix()"
   ]
  },
  {
   "cell_type": "code",
   "execution_count": 10,
   "metadata": {},
   "outputs": [
    {
     "name": "stdout",
     "output_type": "stream",
     "text": [
      "(1458644, 14)\n",
      "(1458644,)\n",
      "(625134, 14)\n"
     ]
    }
   ],
   "source": [
    "print X_train.shape\n",
    "print y_train.shape\n",
    "print X_test.shape"
   ]
  },
  {
   "cell_type": "code",
   "execution_count": 11,
   "metadata": {
    "collapsed": true
   },
   "outputs": [],
   "source": [
    "from keras.optimizers import Adam"
   ]
  },
  {
   "cell_type": "code",
   "execution_count": 12,
   "metadata": {
    "collapsed": true
   },
   "outputs": [],
   "source": [
    "learning_rate = 0.0005"
   ]
  },
  {
   "cell_type": "code",
   "execution_count": 13,
   "metadata": {
    "collapsed": true
   },
   "outputs": [],
   "source": [
    "from keras import backend as K\n",
    "def root_mean_squared_logarithmic_error(y_true, y_pred):\n",
    "    #y_pred = K.round(y_pred)\n",
    "    first_log = K.log(K.clip(y_pred, K.epsilon(), None) + 1.)\n",
    "    second_log = K.log(K.clip(y_true, K.epsilon(), None) + 1.)\n",
    "    return K.sqrt(K.mean(K.square(first_log - second_log)))\n",
    "\n",
    "rmsle = root_mean_squared_logarithmic_error"
   ]
  },
  {
   "cell_type": "code",
   "execution_count": 14,
   "metadata": {},
   "outputs": [],
   "source": [
    "_input = Input(shape=(14,))\n",
    "layer1 = Dense(50, activation='relu')(_input)\n",
    "layer2 = Dense(15, activation='linear')(layer1)\n",
    "_output = Dense(1, activation='linear')(layer2)\n",
    "\n",
    "model = Model(inputs=[_input], outputs=[_output])\n",
    "model.compile(optimizer=Adam(learning_rate),\n",
    "             loss=rmsle)"
   ]
  },
  {
   "cell_type": "code",
   "execution_count": 15,
   "metadata": {},
   "outputs": [
    {
     "name": "stdout",
     "output_type": "stream",
     "text": [
      "Train on 1166915 samples, validate on 291729 samples\n",
      "Epoch 1/100\n",
      "1166915/1166915 [==============================] - 5s - loss: 1.2892 - val_loss: 0.8290\n",
      "Epoch 2/100\n",
      "1166915/1166915 [==============================] - 4s - loss: 0.8181 - val_loss: 0.8102\n",
      "Epoch 3/100\n",
      "1166915/1166915 [==============================] - 4s - loss: 0.8052 - val_loss: 0.8013\n",
      "Epoch 4/100\n",
      "1166915/1166915 [==============================] - 4s - loss: 0.7976 - val_loss: 0.7943\n",
      "Epoch 5/100\n",
      "1166915/1166915 [==============================] - 5s - loss: 0.7907 - val_loss: 0.7871\n",
      "Epoch 6/100\n",
      "1166915/1166915 [==============================] - 4s - loss: 0.7829 - val_loss: 0.7787\n",
      "Epoch 7/100\n",
      "1166915/1166915 [==============================] - 5s - loss: 0.7730 - val_loss: 0.7662\n",
      "Epoch 8/100\n",
      "1166915/1166915 [==============================] - 4s - loss: 0.7545 - val_loss: 0.7385\n",
      "Epoch 9/100\n",
      "1166915/1166915 [==============================] - 4s - loss: 0.7108 - val_loss: 0.6750\n",
      "Epoch 10/100\n",
      "1166915/1166915 [==============================] - 4s - loss: 0.6342 - val_loss: 0.5957\n",
      "Epoch 11/100\n",
      "1166915/1166915 [==============================] - 4s - loss: 0.5700 - val_loss: 0.5510\n",
      "Epoch 12/100\n",
      "1166915/1166915 [==============================] - 4s - loss: 0.5407 - val_loss: 0.5328\n",
      "Epoch 13/100\n",
      "1166915/1166915 [==============================] - 5s - loss: 0.5320 - val_loss: 0.5285\n",
      "Epoch 14/100\n",
      "1166915/1166915 [==============================] - 4s - loss: 0.5295 - val_loss: 0.5275\n",
      "Epoch 15/100\n",
      "1166915/1166915 [==============================] - 4s - loss: 0.5282 - val_loss: 0.5314\n",
      "Epoch 16/100\n",
      "1166915/1166915 [==============================] - 4s - loss: 0.5280 - val_loss: 0.5251\n",
      "Epoch 17/100\n",
      "1166915/1166915 [==============================] - 4s - loss: 0.5269 - val_loss: 0.5249\n",
      "Epoch 18/100\n",
      "1166915/1166915 [==============================] - 4s - loss: 0.5265 - val_loss: 0.5253\n",
      "Epoch 19/100\n",
      "1166915/1166915 [==============================] - 4s - loss: 0.5259 - val_loss: 0.5306\n",
      "Epoch 20/100\n",
      "1166915/1166915 [==============================] - 4s - loss: 0.5254 - val_loss: 0.5305\n",
      "Epoch 21/100\n",
      "1166915/1166915 [==============================] - 4s - loss: 0.5250 - val_loss: 0.5236\n",
      "Epoch 22/100\n",
      "1166915/1166915 [==============================] - 4s - loss: 0.5247 - val_loss: 0.5235\n",
      "Epoch 23/100\n",
      "1166915/1166915 [==============================] - 4s - loss: 0.5242 - val_loss: 0.5225\n",
      "Epoch 24/100\n",
      "1166915/1166915 [==============================] - 4s - loss: 0.5242 - val_loss: 0.5234\n",
      "Epoch 25/100\n",
      "1166915/1166915 [==============================] - 4s - loss: 0.5241 - val_loss: 0.5219\n",
      "Epoch 26/100\n",
      "1166915/1166915 [==============================] - 4s - loss: 0.5240 - val_loss: 0.5214\n",
      "Epoch 27/100\n",
      "1166915/1166915 [==============================] - 4s - loss: 0.5231 - val_loss: 0.5215\n",
      "Epoch 28/100\n",
      "1166915/1166915 [==============================] - 4s - loss: 0.5234 - val_loss: 0.5245\n",
      "Epoch 29/100\n",
      "1166915/1166915 [==============================] - 5s - loss: 0.5231 - val_loss: 0.5206\n",
      "Epoch 30/100\n",
      "1166915/1166915 [==============================] - 4s - loss: 0.5229 - val_loss: 0.5222\n",
      "Epoch 31/100\n",
      "1166915/1166915 [==============================] - 5s - loss: 0.5226 - val_loss: 0.5205\n",
      "Epoch 32/100\n",
      "1166915/1166915 [==============================] - 4s - loss: 0.5224 - val_loss: 0.5232\n",
      "Epoch 33/100\n",
      "1166915/1166915 [==============================] - 4s - loss: 0.5220 - val_loss: 0.5200\n",
      "Epoch 34/100\n",
      "1166915/1166915 [==============================] - 4s - loss: 0.5245 - val_loss: 0.5218\n",
      "Epoch 35/100\n",
      "1166915/1166915 [==============================] - 4s - loss: 0.5247 - val_loss: 0.5203\n",
      "Epoch 36/100\n",
      "1166915/1166915 [==============================] - 4s - loss: 0.5214 - val_loss: 0.5203\n",
      "Epoch 37/100\n",
      "1166915/1166915 [==============================] - 5s - loss: 0.5215 - val_loss: 0.5209\n",
      "Epoch 38/100\n",
      "1166915/1166915 [==============================] - 5s - loss: 0.5216 - val_loss: 0.5204\n",
      "Epoch 39/100\n",
      "1166915/1166915 [==============================] - 4s - loss: 0.5213 - val_loss: 0.5197\n",
      "Epoch 40/100\n",
      "1166915/1166915 [==============================] - 5s - loss: 0.5213 - val_loss: 0.5204\n",
      "Epoch 41/100\n",
      "1166915/1166915 [==============================] - 4s - loss: 0.5257 - val_loss: 0.5190\n",
      "Epoch 42/100\n",
      "1166915/1166915 [==============================] - 4s - loss: 0.5205 - val_loss: 0.5197\n",
      "Epoch 43/100\n",
      "1166915/1166915 [==============================] - 4s - loss: 0.5209 - val_loss: 0.5194\n",
      "Epoch 44/100\n",
      "1166915/1166915 [==============================] - 4s - loss: 0.5212 - val_loss: 0.5191\n",
      "Epoch 45/100\n",
      "1166915/1166915 [==============================] - 5s - loss: 0.5210 - val_loss: 0.5191\n",
      "Epoch 46/100\n",
      "1166915/1166915 [==============================] - 4s - loss: 0.5210 - val_loss: 0.5185\n",
      "Epoch 47/100\n",
      "1166915/1166915 [==============================] - 4s - loss: 0.5209 - val_loss: 0.5255\n",
      "Epoch 48/100\n",
      "1166915/1166915 [==============================] - 4s - loss: 0.5207 - val_loss: 0.5190\n",
      "Epoch 49/100\n",
      "1166915/1166915 [==============================] - 4s - loss: 0.5206 - val_loss: 0.5184\n",
      "Epoch 50/100\n",
      "1166915/1166915 [==============================] - 5s - loss: 0.5237 - val_loss: 0.5184\n",
      "Epoch 51/100\n",
      "1166915/1166915 [==============================] - 4s - loss: 0.5239 - val_loss: 0.5205\n",
      "Epoch 52/100\n",
      "1166915/1166915 [==============================] - 4s - loss: 0.5198 - val_loss: 0.5185\n",
      "Epoch 53/100\n",
      "1166915/1166915 [==============================] - 4s - loss: 0.5206 - val_loss: 0.5217\n",
      "Epoch 54/100\n",
      "1166915/1166915 [==============================] - 4s - loss: 0.5201 - val_loss: 0.5185\n",
      "Epoch 55/100\n",
      "1166915/1166915 [==============================] - 4s - loss: 0.5205 - val_loss: 0.5187\n",
      "Epoch 56/100\n",
      "1166915/1166915 [==============================] - 5s - loss: 0.5201 - val_loss: 0.5214\n",
      "Epoch 57/100\n",
      "1166915/1166915 [==============================] - 4s - loss: 0.5200 - val_loss: 0.5180\n",
      "Epoch 58/100\n",
      "1166915/1166915 [==============================] - 4s - loss: 0.5199 - val_loss: 0.5200\n",
      "Epoch 59/100\n",
      "1166915/1166915 [==============================] - 4s - loss: 0.5200 - val_loss: 0.5188\n",
      "Epoch 60/100\n",
      "1166915/1166915 [==============================] - 5s - loss: 0.5199 - val_loss: 0.5299\n",
      "Epoch 61/100\n",
      "1166915/1166915 [==============================] - 4s - loss: 0.5198 - val_loss: 0.5226\n",
      "Epoch 62/100\n",
      "1166915/1166915 [==============================] - 5s - loss: 0.5214 - val_loss: 0.5270\n",
      "Epoch 63/100\n",
      "1166915/1166915 [==============================] - 4s - loss: 0.5196 - val_loss: 0.5177\n",
      "Epoch 64/100\n",
      "1166915/1166915 [==============================] - 4s - loss: 0.5197 - val_loss: 0.5181\n",
      "Epoch 65/100\n",
      "1166915/1166915 [==============================] - 5s - loss: 0.5195 - val_loss: 0.5175\n",
      "Epoch 66/100\n",
      "1166915/1166915 [==============================] - 5s - loss: 0.5195 - val_loss: 0.5174\n",
      "Epoch 67/100\n",
      "1166915/1166915 [==============================] - 4s - loss: 0.5195 - val_loss: 0.5194\n",
      "Epoch 68/100\n",
      "1166915/1166915 [==============================] - 5s - loss: 0.5192 - val_loss: 0.5186\n",
      "Epoch 69/100\n",
      "1166915/1166915 [==============================] - 4s - loss: 0.5193 - val_loss: 0.5173\n",
      "Epoch 70/100\n",
      "1166915/1166915 [==============================] - 4s - loss: 0.5193 - val_loss: 0.5178\n",
      "Epoch 71/100\n",
      "1166915/1166915 [==============================] - 4s - loss: 0.5197 - val_loss: 0.5209\n",
      "Epoch 72/100\n",
      "1166915/1166915 [==============================] - 4s - loss: 0.5191 - val_loss: 0.5181\n",
      "Epoch 73/100\n",
      "1166915/1166915 [==============================] - 4s - loss: 0.5190 - val_loss: 0.5171\n",
      "Epoch 74/100\n",
      "1166915/1166915 [==============================] - 4s - loss: 0.5193 - val_loss: 0.5177\n",
      "Epoch 75/100\n",
      "1166915/1166915 [==============================] - 5s - loss: 0.5193 - val_loss: 0.5175\n",
      "Epoch 76/100\n",
      "1166915/1166915 [==============================] - 4s - loss: 0.5188 - val_loss: 0.5169\n",
      "Epoch 77/100\n",
      "1166915/1166915 [==============================] - 4s - loss: 0.5193 - val_loss: 0.5169\n",
      "Epoch 78/100\n",
      "1166915/1166915 [==============================] - 4s - loss: 0.5212 - val_loss: 0.5191\n",
      "Epoch 79/100\n",
      "1166915/1166915 [==============================] - 4s - loss: 0.5187 - val_loss: 0.5168\n",
      "Epoch 80/100\n",
      "1166915/1166915 [==============================] - 4s - loss: 0.5187 - val_loss: 0.5170\n",
      "Epoch 81/100\n"
     ]
    },
    {
     "name": "stdout",
     "output_type": "stream",
     "text": [
      "1166915/1166915 [==============================] - 4s - loss: 0.5188 - val_loss: 0.5203\n",
      "Epoch 82/100\n",
      "1166915/1166915 [==============================] - 4s - loss: 0.5186 - val_loss: 0.5165\n",
      "Epoch 83/100\n",
      "1166915/1166915 [==============================] - 4s - loss: 0.5190 - val_loss: 0.5199\n",
      "Epoch 84/100\n",
      "1166915/1166915 [==============================] - 4s - loss: 0.5187 - val_loss: 0.5165\n",
      "Epoch 85/100\n",
      "1166915/1166915 [==============================] - 4s - loss: 0.5185 - val_loss: 0.5167\n",
      "Epoch 86/100\n",
      "1166915/1166915 [==============================] - 4s - loss: 0.5186 - val_loss: 0.5167\n",
      "Epoch 87/100\n",
      "1166915/1166915 [==============================] - 4s - loss: 0.5189 - val_loss: 0.5174\n",
      "Epoch 88/100\n",
      "1166915/1166915 [==============================] - 4s - loss: 0.5184 - val_loss: 0.5173\n",
      "Epoch 89/100\n",
      "1166915/1166915 [==============================] - 4s - loss: 0.5182 - val_loss: 0.5185\n",
      "Epoch 90/100\n",
      "1166915/1166915 [==============================] - 4s - loss: 0.5188 - val_loss: 0.5224\n",
      "Epoch 91/100\n",
      "1166915/1166915 [==============================] - 4s - loss: 0.5181 - val_loss: 0.5196\n",
      "Epoch 92/100\n",
      "1166915/1166915 [==============================] - 4s - loss: 0.5184 - val_loss: 0.5190\n",
      "Epoch 93/100\n",
      "1166915/1166915 [==============================] - 4s - loss: 0.5186 - val_loss: 0.5223\n",
      "Epoch 94/100\n",
      "1166915/1166915 [==============================] - 4s - loss: 0.5183 - val_loss: 0.5200\n",
      "Epoch 95/100\n",
      "1166915/1166915 [==============================] - 4s - loss: 0.5180 - val_loss: 0.5176\n",
      "Epoch 96/100\n",
      "1166915/1166915 [==============================] - 4s - loss: 0.5181 - val_loss: 0.5162\n",
      "Epoch 97/100\n",
      "1166915/1166915 [==============================] - 4s - loss: 0.5179 - val_loss: 0.5166\n",
      "Epoch 98/100\n",
      "1166915/1166915 [==============================] - 4s - loss: 0.5181 - val_loss: 0.5166\n",
      "Epoch 99/100\n",
      "1166915/1166915 [==============================] - 4s - loss: 0.5181 - val_loss: 0.5170\n",
      "Epoch 100/100\n",
      "1166915/1166915 [==============================] - 5s - loss: 0.5177 - val_loss: 0.5164\n"
     ]
    }
   ],
   "source": [
    "from keras.callbacks import ModelCheckpoint\n",
    "\n",
    "checkpoint = ModelCheckpoint('weights.h5', save_best_only=True,\n",
    "                             monitor='val_loss', verbose=0)\n",
    "results = model.fit(X_train, y_train, \n",
    "                    batch_size=1024,\n",
    "                    epochs=100, callbacks=[checkpoint],\n",
    "                    validation_split=0.2)"
   ]
  },
  {
   "cell_type": "code",
   "execution_count": 16,
   "metadata": {},
   "outputs": [
    {
     "data": {
      "image/png": "[encoded data removed]",
      "text/plain": [
       "<matplotlib.figure.Figure at 0x111432c50>"
      ]
     },
     "metadata": {},
     "output_type": "display_data"
    }
   ],
   "source": [
    "from matplotlib import pyplot as plt\n",
    "plt.plot(results.epoch, results.history['loss'], label='loss')\n",
    "plt.plot(results.epoch, results.history['val_loss'], label='val_loss')\n",
    "plt.xlabel('Epoch')\n",
    "plt.ylabel('RMSLE')\n",
    "plt.legend()\n",
    "plt.show()"
   ]
  },
  {
   "cell_type": "code",
   "execution_count": 19,
   "metadata": {
    "collapsed": true
   },
   "outputs": [],
   "source": [
    "test_features = preprocess(TEST_FILE)"
   ]
  },
  {
   "cell_type": "code",
   "execution_count": 22,
   "metadata": {
    "collapsed": true
   },
   "outputs": [],
   "source": [
    "test_features = test_features[['id', 'vendor_id', 'passenger_count','pickup_hr', 'pickup_min', 'pickup_sec',\n",
    "       'pickup_day', 'pickup_date', 'pickup_mon',\n",
    "       's_pickup_latitude', 's_pickup_longitude', 's_dropoff_latitude',\n",
    "       's_dropoff_longitude', 'flag', 'cityblock']]"
   ]
  },
  {
   "cell_type": "code",
   "execution_count": 21,
   "metadata": {},
   "outputs": [],
   "source": [
    "model.load_weights('weights.h5')\n",
    "with open('predictions.txt', 'w') as _file:\n",
    "    _file.write('id,trip_duration\\n')\n",
    "    for example in test_features.as_matrix():\n",
    "        tid, pred = example[0], model.predict(np.array([example[1:]]))\n",
    "        pred = pred[0][0]\n",
    "        _file.write('{},{}\\n'.format(tid, pred))"
   ]
  },
  {
   "cell_type": "code",
   "execution_count": 23,
   "metadata": {},
   "outputs": [
    {
     "name": "stdout",
     "output_type": "stream",
     "text": [
      "  625135 predictions.txt\r\n"
     ]
    }
   ],
   "source": [
    "!wc -l predictions.txt"
   ]
  },
  {
   "cell_type": "code",
   "execution_count": null,
   "metadata": {
    "collapsed": true
   },
   "outputs": [],
   "source": []
  }
 ],
 "metadata": {
  "kernelspec": {
   "display_name": "Python 2",
   "language": "python",
   "name": "python2"
  },
  "language_info": {
   "codemirror_mode": {
    "name": "ipython",
    "version": 2
   },
   "file_extension": ".py",
   "mimetype": "text/x-python",
   "name": "python",
   "nbconvert_exporter": "python",
   "pygments_lexer": "ipython2",
   "version": "2.7.13"
  }
 },
 "nbformat": 4,
 "nbformat_minor": 2
}
