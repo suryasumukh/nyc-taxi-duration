{
 "cells": [
  {
   "cell_type": "code",
   "execution_count": 21,
   "metadata": {},
   "outputs": [
    {
     "name": "stdout",
     "output_type": "stream",
     "text": [
      "The autoreload extension is already loaded. To reload it, use:\n",
      "  %reload_ext autoreload\n"
     ]
    }
   ],
   "source": [
    "%load_ext autoreload\n",
    "%autoreload 2"
   ]
  },
  {
   "cell_type": "code",
   "execution_count": 22,
   "metadata": {
    "collapsed": true
   },
   "outputs": [],
   "source": [
    "%matplotlib inline\n",
    "from utils import preprocess"
   ]
  },
  {
   "cell_type": "code",
   "execution_count": 23,
   "metadata": {
    "collapsed": true
   },
   "outputs": [],
   "source": [
    "import numpy as np\n",
    "import pandas as pd\n",
    "import os"
   ]
  },
  {
   "cell_type": "code",
   "execution_count": 24,
   "metadata": {
    "collapsed": true
   },
   "outputs": [],
   "source": [
    "from sklearn.model_selection import train_test_split\n",
    "from sklearn.metrics import mean_squared_error"
   ]
  },
  {
   "cell_type": "code",
   "execution_count": 25,
   "metadata": {},
   "outputs": [],
   "source": [
    "from keras.models import Model\n",
    "from keras.layers import Dense, Activation, Dropout\n",
    "from keras.layers import Input"
   ]
  },
  {
   "cell_type": "code",
   "execution_count": 6,
   "metadata": {
    "collapsed": true
   },
   "outputs": [],
   "source": [
    "DATA_PATH = os.path.join('../data')\n",
    "TRAIN_FILE = os.path.join(DATA_PATH, 'train.csv')\n",
    "TEST_FILE = os.path.join(DATA_PATH, 'test.csv')"
   ]
  },
  {
   "cell_type": "code",
   "execution_count": 26,
   "metadata": {
    "collapsed": true
   },
   "outputs": [],
   "source": [
    "train_features = preprocess(TRAIN_FILE)"
   ]
  },
  {
   "cell_type": "code",
   "execution_count": 27,
   "metadata": {},
   "outputs": [
    {
     "data": {
      "text/plain": [
       "Index([u'id', u'vendor_id', u'pickup_datetime', u'dropoff_datetime',\n",
       "       u'passenger_count', u'pickup_longitude', u'pickup_latitude',\n",
       "       u'dropoff_longitude', u'dropoff_latitude', u'store_and_fwd_flag',\n",
       "       u'trip_duration', u'pickup_hr', u'pickup_min', u'pickup_sec',\n",
       "       u'pickup_day', u'pickup_date', u'pickup_mon', u'quarter', u'weekday',\n",
       "       u'holiday', u'st_dist', u'h_dist', u'travel_dir', u'bearing',\n",
       "       u's_pickup_latitude', u's_pickup_longitude', u's_dropoff_latitude',\n",
       "       u's_dropoff_longitude', u'flag', u'month_end', u'month_start'],\n",
       "      dtype='object')"
      ]
     },
     "execution_count": 27,
     "metadata": {},
     "output_type": "execute_result"
    }
   ],
   "source": [
    "train_features.columns"
   ]
  },
  {
   "cell_type": "code",
   "execution_count": 28,
   "metadata": {
    "collapsed": true
   },
   "outputs": [],
   "source": [
    "X = train_features[[u'vendor_id',\n",
    "       u'passenger_count', u'pickup_hr', u'pickup_min', u'pickup_sec',\n",
    "       u'pickup_day', u'pickup_mon', u'weekday',\n",
    "       u'holiday', u'st_dist', u'h_dist', u'bearing',\n",
    "       u's_pickup_latitude', u's_pickup_longitude', u's_dropoff_latitude',\n",
    "       u's_dropoff_longitude', u'flag', u'month_end', u'month_start']].as_matrix()\n",
    "y = train_features['trip_duration']"
   ]
  },
  {
   "cell_type": "code",
   "execution_count": 29,
   "metadata": {},
   "outputs": [
    {
     "name": "stdout",
     "output_type": "stream",
     "text": [
      "(1458644, 19)\n",
      "(1458644,)\n"
     ]
    }
   ],
   "source": [
    "print X.shape\n",
    "print y.shape"
   ]
  },
  {
   "cell_type": "code",
   "execution_count": 30,
   "metadata": {
    "collapsed": true
   },
   "outputs": [],
   "source": [
    "X_train, X_test, y_train, y_test = train_test_split(X, y, test_size=0.2)"
   ]
  },
  {
   "cell_type": "code",
   "execution_count": 94,
   "metadata": {
    "collapsed": true
   },
   "outputs": [],
   "source": [
    "from keras.optimizers import Adam, RMSprop"
   ]
  },
  {
   "cell_type": "code",
   "execution_count": 32,
   "metadata": {
    "collapsed": true
   },
   "outputs": [],
   "source": [
    "from keras.layers import BatchNormalization"
   ]
  },
  {
   "cell_type": "code",
   "execution_count": 33,
   "metadata": {
    "collapsed": true
   },
   "outputs": [],
   "source": [
    "from keras import backend as K\n",
    "def root_mean_squared_logarithmic_error(y_true, y_pred):\n",
    "    #y_pred = K.round(y_pred)\n",
    "    first_log = K.log(K.clip(y_pred, K.epsilon(), None) + 1.)\n",
    "    second_log = K.log(K.clip(y_true, K.epsilon(), None) + 1.)\n",
    "    return K.sqrt(K.mean(K.square(first_log - second_log)))\n",
    "\n",
    "rmsle = root_mean_squared_logarithmic_error"
   ]
  },
  {
   "cell_type": "code",
   "execution_count": 91,
   "metadata": {
    "collapsed": true
   },
   "outputs": [],
   "source": [
    "learning_rate = 0.0001"
   ]
  },
  {
   "cell_type": "code",
   "execution_count": 101,
   "metadata": {},
   "outputs": [],
   "source": [
    "_input = Input(shape=(19,))\n",
    "#_norm = BatchNormalization()(_input)\n",
    "layer1 = Dense(100, activation='linear')(_input)\n",
    "layer2 = Dense(20, activation='relu')(layer1)\n",
    "_output = Dense(1, activation='relu')(layer2)\n",
    "\n",
    "model = Model(inputs=[_input], outputs=[_output])\n",
    "optimizer = Adam(learning_rate)\n",
    "model.compile(optimizer=optimizer,\n",
    "             loss=rmsle)"
   ]
  },
  {
   "cell_type": "code",
   "execution_count": 117,
   "metadata": {},
   "outputs": [
    {
     "name": "stdout",
     "output_type": "stream",
     "text": [
      "Train on 933532 samples, validate on 233383 samples\n",
      "Epoch 1/100\n",
      "933532/933532 [==============================] - 4s - loss: 0.5046 - val_loss: 0.5025\n",
      "Epoch 2/100\n",
      "933532/933532 [==============================] - 4s - loss: 0.5045 - val_loss: 0.5013\n",
      "Epoch 3/100\n",
      "933532/933532 [==============================] - 4s - loss: 0.5043 - val_loss: 0.5011\n",
      "Epoch 4/100\n",
      "933532/933532 [==============================] - 4s - loss: 0.5041 - val_loss: 0.5011\n",
      "Epoch 5/100\n",
      "933532/933532 [==============================] - 4s - loss: 0.5039 - val_loss: 0.5013\n",
      "Epoch 6/100\n",
      "933532/933532 [==============================] - 4s - loss: 0.5034 - val_loss: 0.5003\n",
      "Epoch 7/100\n",
      "933532/933532 [==============================] - 3s - loss: 0.5031 - val_loss: 0.5005\n",
      "Epoch 8/100\n",
      "933532/933532 [==============================] - 4s - loss: 0.5033 - val_loss: 0.5017\n",
      "Epoch 9/100\n",
      "933532/933532 [==============================] - 4s - loss: 0.5030 - val_loss: 0.5012\n",
      "Epoch 10/100\n",
      "933532/933532 [==============================] - 3s - loss: 0.5028 - val_loss: 0.4996\n",
      "Epoch 11/100\n",
      "933532/933532 [==============================] - 3s - loss: 0.5026 - val_loss: 0.4997\n",
      "Epoch 12/100\n",
      "933532/933532 [==============================] - 3s - loss: 0.5025 - val_loss: 0.5008\n",
      "Epoch 13/100\n",
      "933532/933532 [==============================] - 4s - loss: 0.5023 - val_loss: 0.4995\n",
      "Epoch 14/100\n",
      "933532/933532 [==============================] - 4s - loss: 0.5019 - val_loss: 0.4991\n",
      "Epoch 15/100\n",
      "933532/933532 [==============================] - 5s - loss: 0.5020 - val_loss: 0.4997\n",
      "Epoch 16/100\n",
      "933532/933532 [==============================] - 6s - loss: 0.5018 - val_loss: 0.4986\n",
      "Epoch 17/100\n",
      "933532/933532 [==============================] - 5s - loss: 0.5015 - val_loss: 0.4987\n",
      "Epoch 18/100\n",
      "933532/933532 [==============================] - 5s - loss: 0.5015 - val_loss: 0.4992\n",
      "Epoch 19/100\n",
      "933532/933532 [==============================] - 5s - loss: 0.5013 - val_loss: 0.4979\n",
      "Epoch 20/100\n",
      "933532/933532 [==============================] - 5s - loss: 0.5010 - val_loss: 0.4980\n",
      "Epoch 21/100\n",
      "933532/933532 [==============================] - 5s - loss: 0.5009 - val_loss: 0.4982\n",
      "Epoch 22/100\n",
      "933532/933532 [==============================] - 4s - loss: 0.5007 - val_loss: 0.4977\n",
      "Epoch 23/100\n",
      "933532/933532 [==============================] - 4s - loss: 0.5006 - val_loss: 0.4977\n",
      "Epoch 24/100\n",
      "933532/933532 [==============================] - 5s - loss: 0.5003 - val_loss: 0.4971\n",
      "Epoch 25/100\n",
      "933532/933532 [==============================] - 4s - loss: 0.5003 - val_loss: 0.4995\n",
      "Epoch 26/100\n",
      "933532/933532 [==============================] - 4s - loss: 0.5004 - val_loss: 0.4971\n",
      "Epoch 27/100\n",
      "933532/933532 [==============================] - 4s - loss: 0.5002 - val_loss: 0.4969\n",
      "Epoch 28/100\n",
      "933532/933532 [==============================] - 4s - loss: 0.4999 - val_loss: 0.4967\n",
      "Epoch 29/100\n",
      "933532/933532 [==============================] - 4s - loss: 0.4997 - val_loss: 0.4975\n",
      "Epoch 30/100\n",
      "933532/933532 [==============================] - 4s - loss: 0.4998 - val_loss: 0.4964\n",
      "Epoch 31/100\n",
      "933532/933532 [==============================] - 4s - loss: 0.4997 - val_loss: 0.5092\n",
      "Epoch 32/100\n",
      "933532/933532 [==============================] - 4s - loss: 0.5003 - val_loss: 0.4974\n",
      "Epoch 33/100\n",
      "933532/933532 [==============================] - 4s - loss: 0.4996 - val_loss: 0.4964\n",
      "Epoch 34/100\n",
      "933532/933532 [==============================] - 4s - loss: 0.4991 - val_loss: 0.4964\n",
      "Epoch 35/100\n",
      "933532/933532 [==============================] - 5s - loss: 0.4993 - val_loss: 0.4960\n",
      "Epoch 36/100\n",
      "933532/933532 [==============================] - 4s - loss: 0.4992 - val_loss: 0.4959\n",
      "Epoch 37/100\n",
      "933532/933532 [==============================] - 5s - loss: 0.4990 - val_loss: 0.4975\n",
      "Epoch 38/100\n",
      "933532/933532 [==============================] - 4s - loss: 0.4988 - val_loss: 0.4968\n",
      "Epoch 39/100\n",
      "933532/933532 [==============================] - 4s - loss: 0.4988 - val_loss: 0.4957\n",
      "Epoch 40/100\n",
      "933532/933532 [==============================] - 4s - loss: 0.4987 - val_loss: 0.5006\n",
      "Epoch 41/100\n",
      "933532/933532 [==============================] - 4s - loss: 0.4987 - val_loss: 0.4957\n",
      "Epoch 42/100\n",
      "933532/933532 [==============================] - 4s - loss: 0.4989 - val_loss: 0.4955\n",
      "Epoch 43/100\n",
      "933532/933532 [==============================] - 4s - loss: 0.4983 - val_loss: 0.4950\n",
      "Epoch 44/100\n",
      "933532/933532 [==============================] - 4s - loss: 0.4983 - val_loss: 0.4952\n",
      "Epoch 45/100\n",
      "933532/933532 [==============================] - 5s - loss: 0.4982 - val_loss: 0.5418\n",
      "Epoch 46/100\n",
      "933532/933532 [==============================] - 4s - loss: 0.4985 - val_loss: 0.4953\n",
      "Epoch 47/100\n",
      "933532/933532 [==============================] - 4s - loss: 0.4980 - val_loss: 0.4954\n",
      "Epoch 48/100\n",
      "933532/933532 [==============================] - 4s - loss: 0.4978 - val_loss: 0.4952\n",
      "Epoch 49/100\n",
      "933532/933532 [==============================] - 4s - loss: 0.4978 - val_loss: 0.4948\n",
      "Epoch 50/100\n",
      "933532/933532 [==============================] - 4s - loss: 0.4990 - val_loss: 0.4945\n",
      "Epoch 51/100\n",
      "933532/933532 [==============================] - 4s - loss: 0.4974 - val_loss: 0.4943\n",
      "Epoch 52/100\n",
      "933532/933532 [==============================] - 4s - loss: 0.4982 - val_loss: 0.4943\n",
      "Epoch 53/100\n",
      "933532/933532 [==============================] - 4s - loss: 0.4977 - val_loss: 0.4946\n",
      "Epoch 54/100\n",
      "933532/933532 [==============================] - 5s - loss: 0.4977 - val_loss: 0.4946\n",
      "Epoch 55/100\n",
      "933532/933532 [==============================] - 5s - loss: 0.4975 - val_loss: 0.4946\n",
      "Epoch 56/100\n",
      "933532/933532 [==============================] - 5s - loss: 0.4974 - val_loss: 0.4950\n",
      "Epoch 57/100\n",
      "933532/933532 [==============================] - 4s - loss: 0.4972 - val_loss: 0.4944\n",
      "Epoch 58/100\n",
      "933532/933532 [==============================] - 4s - loss: 0.4973 - val_loss: 0.4948\n",
      "Epoch 59/100\n",
      "933532/933532 [==============================] - 5s - loss: 0.4972 - val_loss: 0.4951\n",
      "Epoch 60/100\n",
      "933532/933532 [==============================] - 5s - loss: 0.5000 - val_loss: 0.4937\n",
      "Epoch 61/100\n",
      "933532/933532 [==============================] - 4s - loss: 0.4967 - val_loss: 0.4947\n",
      "Epoch 62/100\n",
      "933532/933532 [==============================] - 5s - loss: 0.4969 - val_loss: 0.4954\n",
      "Epoch 63/100\n",
      "933532/933532 [==============================] - 5s - loss: 0.4969 - val_loss: 0.4937\n",
      "Epoch 64/100\n",
      "933532/933532 [==============================] - 5s - loss: 0.4972 - val_loss: 0.4934\n",
      "Epoch 65/100\n",
      "933532/933532 [==============================] - 5s - loss: 0.4970 - val_loss: 0.4939\n",
      "Epoch 66/100\n",
      "933532/933532 [==============================] - 5s - loss: 0.4973 - val_loss: 0.4933\n",
      "Epoch 67/100\n",
      "933532/933532 [==============================] - 5s - loss: 0.4966 - val_loss: 0.4945\n",
      "Epoch 68/100\n",
      "933532/933532 [==============================] - 5s - loss: 0.4966 - val_loss: 0.4934\n",
      "Epoch 69/100\n",
      "933532/933532 [==============================] - 5s - loss: 0.4966 - val_loss: 0.4965\n",
      "Epoch 70/100\n",
      "933532/933532 [==============================] - 5s - loss: 0.4966 - val_loss: 0.4931\n",
      "Epoch 71/100\n",
      "933532/933532 [==============================] - 4s - loss: 0.4963 - val_loss: 0.4932\n",
      "Epoch 72/100\n",
      "933532/933532 [==============================] - 5s - loss: 0.4964 - val_loss: 0.4937\n",
      "Epoch 73/100\n",
      "933532/933532 [==============================] - 5s - loss: 0.4961 - val_loss: 0.4929\n",
      "Epoch 74/100\n",
      "933532/933532 [==============================] - 5s - loss: 0.4962 - val_loss: 0.4927\n",
      "Epoch 75/100\n",
      "933532/933532 [==============================] - 5s - loss: 0.4985 - val_loss: 0.4926\n",
      "Epoch 76/100\n",
      "933532/933532 [==============================] - 5s - loss: 0.4963 - val_loss: 0.4927\n",
      "Epoch 77/100\n",
      "933532/933532 [==============================] - 5s - loss: 0.4960 - val_loss: 0.4929\n",
      "Epoch 78/100\n",
      "933532/933532 [==============================] - 5s - loss: 0.4958 - val_loss: 0.4949\n",
      "Epoch 79/100\n",
      "933532/933532 [==============================] - 5s - loss: 0.4960 - val_loss: 0.4926\n",
      "Epoch 80/100\n",
      "933532/933532 [==============================] - 5s - loss: 0.4961 - val_loss: 0.4927\n",
      "Epoch 81/100\n",
      "933532/933532 [==============================] - 5s - loss: 0.4960 - val_loss: 0.4925\n",
      "Epoch 82/100\n",
      "933532/933532 [==============================] - 5s - loss: 0.4961 - val_loss: 0.4923\n",
      "Epoch 83/100\n"
     ]
    },
    {
     "name": "stdout",
     "output_type": "stream",
     "text": [
      "933532/933532 [==============================] - 4s - loss: 0.4975 - val_loss: 0.4935\n",
      "Epoch 84/100\n",
      "933532/933532 [==============================] - 4s - loss: 0.4965 - val_loss: 0.4922\n",
      "Epoch 85/100\n",
      "933532/933532 [==============================] - 4s - loss: 0.4954 - val_loss: 0.4930\n",
      "Epoch 86/100\n",
      "933532/933532 [==============================] - 4s - loss: 0.4968 - val_loss: 0.4927\n",
      "Epoch 87/100\n",
      "933532/933532 [==============================] - 4s - loss: 0.4956 - val_loss: 0.4933\n",
      "Epoch 88/100\n",
      "933532/933532 [==============================] - 4s - loss: 0.4954 - val_loss: 0.4926\n",
      "Epoch 89/100\n",
      "933532/933532 [==============================] - 4s - loss: 0.4955 - val_loss: 0.4941\n",
      "Epoch 90/100\n",
      "933532/933532 [==============================] - 4s - loss: 0.4960 - val_loss: 0.4918\n",
      "Epoch 91/100\n",
      "933532/933532 [==============================] - 4s - loss: 0.4962 - val_loss: 0.4927\n",
      "Epoch 92/100\n",
      "933532/933532 [==============================] - 4s - loss: 0.4953 - val_loss: 0.4919\n",
      "Epoch 93/100\n",
      "933532/933532 [==============================] - 4s - loss: 0.4955 - val_loss: 0.4917\n",
      "Epoch 94/100\n",
      "933532/933532 [==============================] - 4s - loss: 0.4951 - val_loss: 0.4916\n",
      "Epoch 95/100\n",
      "933532/933532 [==============================] - 4s - loss: 0.4956 - val_loss: 0.4919\n",
      "Epoch 96/100\n",
      "933532/933532 [==============================] - 4s - loss: 0.4951 - val_loss: 0.4916\n",
      "Epoch 97/100\n",
      "933532/933532 [==============================] - 4s - loss: 0.4966 - val_loss: 0.4919\n",
      "Epoch 98/100\n",
      "933532/933532 [==============================] - 4s - loss: 0.4961 - val_loss: 0.4950\n",
      "Epoch 99/100\n",
      "933532/933532 [==============================] - 5s - loss: 0.4949 - val_loss: 0.4917\n",
      "Epoch 100/100\n",
      "933532/933532 [==============================] - 4s - loss: 0.4983 - val_loss: 0.4914\n"
     ]
    }
   ],
   "source": [
    "from keras.callbacks import ModelCheckpoint\n",
    "from keras.callbacks import ReduceLROnPlateau, LearningRateScheduler\n",
    "\n",
    "checkpoint = ModelCheckpoint('weights1.h5', save_best_only=True,\n",
    "                             monitor='val_loss', verbose=0)\n",
    "reduce_lr = ReduceLROnPlateau(monitor='loss', factor=0.2,\n",
    "              patience=10, verbose=1)\n",
    "\n",
    "def scheduler(epoch):\n",
    "    if epoch < 40:\n",
    "        return learning_rate\n",
    "    if epoch > 40 and epoch < 80:\n",
    "        return learning_rate * 0.1\n",
    "    else:\n",
    "        return learning_rate * 0.05\n",
    "    \n",
    "lr_scheduler = LearningRateScheduler(scheduler)\n",
    "results = model.fit(X_train, y_train, \n",
    "                    batch_size=1024,\n",
    "                    epochs=100, callbacks=[checkpoint],\n",
    "                    validation_split=0.2)"
   ]
  },
  {
   "cell_type": "code",
   "execution_count": 118,
   "metadata": {},
   "outputs": [
    {
     "data": {
      "image/png": "[encoded data removed]",
      "text/plain": [
       "<matplotlib.figure.Figure at 0x11ecc06d0>"
      ]
     },
     "metadata": {},
     "output_type": "display_data"
    }
   ],
   "source": [
    "from matplotlib import pyplot as plt\n",
    "plt.plot(results.epoch, np.log(results.history['loss']), label='loss')\n",
    "plt.plot(results.epoch, np.log(results.history['val_loss']), label='val_loss')\n",
    "plt.xlabel('Epoch')\n",
    "plt.ylabel('RMSLE')\n",
    "plt.legend()\n",
    "plt.show()"
   ]
  },
  {
   "cell_type": "code",
   "execution_count": 119,
   "metadata": {
    "collapsed": true
   },
   "outputs": [],
   "source": [
    "model.load_weights('weights1.h5')"
   ]
  },
  {
   "cell_type": "code",
   "execution_count": 120,
   "metadata": {},
   "outputs": [
    {
     "name": "stdout",
     "output_type": "stream",
     "text": [
      "Test MSE: 52338009.9163\n"
     ]
    }
   ],
   "source": [
    "y_test_hat = model.predict(X_test)\n",
    "print 'Test MSE: {}'.format(mean_squared_error(y_test, y_test_hat))"
   ]
  },
  {
   "cell_type": "code",
   "execution_count": 121,
   "metadata": {},
   "outputs": [
    {
     "name": "stdout",
     "output_type": "stream",
     "text": [
      "0.494549\n"
     ]
    }
   ],
   "source": [
    "test_loss = []\n",
    "for yt, yth in zip(y_test, y_test_hat):\n",
    "    diff = np.log(yt + 1.) - np.log(yth + 1.)\n",
    "    test_loss.append(diff ** 2)\n",
    "print np.sqrt(np.mean(test_loss))"
   ]
  },
  {
   "cell_type": "code",
   "execution_count": 122,
   "metadata": {},
   "outputs": [
    {
     "data": {
      "text/plain": [
       "13.155119"
      ]
     },
     "execution_count": 122,
     "metadata": {},
     "output_type": "execute_result"
    }
   ],
   "source": [
    "np.min(y_test_hat)"
   ]
  },
  {
   "cell_type": "code",
   "execution_count": 108,
   "metadata": {
    "collapsed": true
   },
   "outputs": [],
   "source": [
    "test_features = preprocess(TEST_FILE)"
   ]
  },
  {
   "cell_type": "code",
   "execution_count": 109,
   "metadata": {
    "collapsed": true
   },
   "outputs": [],
   "source": [
    "test_ = test_features[[u'vendor_id',\n",
    "       u'passenger_count', u'pickup_hr', u'pickup_min', u'pickup_sec',\n",
    "       u'pickup_day', u'pickup_mon', u'weekday',\n",
    "       u'holiday', u'st_dist', u'h_dist', u'bearing',\n",
    "       u's_pickup_latitude', u's_pickup_longitude', u's_dropoff_latitude',\n",
    "       u's_dropoff_longitude', u'flag', u'month_end', u'month_start']]"
   ]
  },
  {
   "cell_type": "code",
   "execution_count": 123,
   "metadata": {},
   "outputs": [
    {
     "name": "stdout",
     "output_type": "stream",
     "text": [
      "(625134, 1)\n"
     ]
    }
   ],
   "source": [
    "pred = model.predict(test_.as_matrix())\n",
    "print pred.shape"
   ]
  },
  {
   "cell_type": "code",
   "execution_count": 124,
   "metadata": {
    "collapsed": true
   },
   "outputs": [],
   "source": [
    "with open('predictions.txt', 'w') as _file:\n",
    "    _file.write('id,trip_duration\\n')\n",
    "    for tid, p in zip(test_features['id'], pred):\n",
    "        # tid, pred = example[0], model.predict(np.array([example[1:]]))\n",
    "        p = p[0]\n",
    "        _file.write('{},{}\\n'.format(tid, p))"
   ]
  },
  {
   "cell_type": "code",
   "execution_count": 125,
   "metadata": {},
   "outputs": [
    {
     "name": "stdout",
     "output_type": "stream",
     "text": [
      "  625135 predictions.txt\r\n"
     ]
    }
   ],
   "source": [
    "!wc -l predictions.txt"
   ]
  },
  {
   "cell_type": "code",
   "execution_count": 126,
   "metadata": {
    "collapsed": true
   },
   "outputs": [],
   "source": [
    "p = pd.read_csv('predictions.txt')"
   ]
  },
  {
   "cell_type": "code",
   "execution_count": 127,
   "metadata": {},
   "outputs": [
    {
     "data": {
      "text/html": [
       "<div>\n",
       "<style>\n",
       "    .dataframe thead tr:only-child th {\n",
       "        text-align: right;\n",
       "    }\n",
       "\n",
       "    .dataframe thead th {\n",
       "        text-align: left;\n",
       "    }\n",
       "\n",
       "    .dataframe tbody tr th {\n",
       "        vertical-align: top;\n",
       "    }\n",
       "</style>\n",
       "<table border=\"1\" class=\"dataframe\">\n",
       "  <thead>\n",
       "    <tr style=\"text-align: right;\">\n",
       "      <th></th>\n",
       "      <th>trip_duration</th>\n",
       "    </tr>\n",
       "  </thead>\n",
       "  <tbody>\n",
       "    <tr>\n",
       "      <th>count</th>\n",
       "      <td>625134.000000</td>\n",
       "    </tr>\n",
       "    <tr>\n",
       "      <th>mean</th>\n",
       "      <td>836.761949</td>\n",
       "    </tr>\n",
       "    <tr>\n",
       "      <th>std</th>\n",
       "      <td>620.689115</td>\n",
       "    </tr>\n",
       "    <tr>\n",
       "      <th>min</th>\n",
       "      <td>16.102797</td>\n",
       "    </tr>\n",
       "    <tr>\n",
       "      <th>25%</th>\n",
       "      <td>472.282776</td>\n",
       "    </tr>\n",
       "    <tr>\n",
       "      <th>50%</th>\n",
       "      <td>666.010925</td>\n",
       "    </tr>\n",
       "    <tr>\n",
       "      <th>75%</th>\n",
       "      <td>979.394958</td>\n",
       "    </tr>\n",
       "    <tr>\n",
       "      <th>max</th>\n",
       "      <td>124920.398438</td>\n",
       "    </tr>\n",
       "  </tbody>\n",
       "</table>\n",
       "</div>"
      ],
      "text/plain": [
       "       trip_duration\n",
       "count  625134.000000\n",
       "mean      836.761949\n",
       "std       620.689115\n",
       "min        16.102797\n",
       "25%       472.282776\n",
       "50%       666.010925\n",
       "75%       979.394958\n",
       "max    124920.398438"
      ]
     },
     "execution_count": 127,
     "metadata": {},
     "output_type": "execute_result"
    }
   ],
   "source": [
    "p.describe()"
   ]
  },
  {
   "cell_type": "code",
   "execution_count": 128,
   "metadata": {
    "collapsed": true
   },
   "outputs": [],
   "source": [
    "z = pd.DataFrame(y_train)"
   ]
  },
  {
   "cell_type": "code",
   "execution_count": 129,
   "metadata": {},
   "outputs": [
    {
     "data": {
      "text/html": [
       "<div>\n",
       "<style>\n",
       "    .dataframe thead tr:only-child th {\n",
       "        text-align: right;\n",
       "    }\n",
       "\n",
       "    .dataframe thead th {\n",
       "        text-align: left;\n",
       "    }\n",
       "\n",
       "    .dataframe tbody tr th {\n",
       "        vertical-align: top;\n",
       "    }\n",
       "</style>\n",
       "<table border=\"1\" class=\"dataframe\">\n",
       "  <thead>\n",
       "    <tr style=\"text-align: right;\">\n",
       "      <th></th>\n",
       "      <th>trip_duration</th>\n",
       "    </tr>\n",
       "  </thead>\n",
       "  <tbody>\n",
       "    <tr>\n",
       "      <th>count</th>\n",
       "      <td>1.166915e+06</td>\n",
       "    </tr>\n",
       "    <tr>\n",
       "      <th>mean</th>\n",
       "      <td>9.585794e+02</td>\n",
       "    </tr>\n",
       "    <tr>\n",
       "      <th>std</th>\n",
       "      <td>4.597865e+03</td>\n",
       "    </tr>\n",
       "    <tr>\n",
       "      <th>min</th>\n",
       "      <td>1.000000e+00</td>\n",
       "    </tr>\n",
       "    <tr>\n",
       "      <th>25%</th>\n",
       "      <td>3.970000e+02</td>\n",
       "    </tr>\n",
       "    <tr>\n",
       "      <th>50%</th>\n",
       "      <td>6.630000e+02</td>\n",
       "    </tr>\n",
       "    <tr>\n",
       "      <th>75%</th>\n",
       "      <td>1.075000e+03</td>\n",
       "    </tr>\n",
       "    <tr>\n",
       "      <th>max</th>\n",
       "      <td>2.227612e+06</td>\n",
       "    </tr>\n",
       "  </tbody>\n",
       "</table>\n",
       "</div>"
      ],
      "text/plain": [
       "       trip_duration\n",
       "count   1.166915e+06\n",
       "mean    9.585794e+02\n",
       "std     4.597865e+03\n",
       "min     1.000000e+00\n",
       "25%     3.970000e+02\n",
       "50%     6.630000e+02\n",
       "75%     1.075000e+03\n",
       "max     2.227612e+06"
      ]
     },
     "execution_count": 129,
     "metadata": {},
     "output_type": "execute_result"
    }
   ],
   "source": [
    "z.describe()"
   ]
  },
  {
   "cell_type": "code",
   "execution_count": null,
   "metadata": {
    "collapsed": true
   },
   "outputs": [],
   "source": []
  }
 ],
 "metadata": {
  "kernelspec": {
   "display_name": "Python 2",
   "language": "python",
   "name": "python2"
  },
  "language_info": {
   "codemirror_mode": {
    "name": "ipython",
    "version": 2
   },
   "file_extension": ".py",
   "mimetype": "text/x-python",
   "name": "python",
   "nbconvert_exporter": "python",
   "pygments_lexer": "ipython2",
   "version": "2.7.13"
  }
 },
 "nbformat": 4,
 "nbformat_minor": 2
}
