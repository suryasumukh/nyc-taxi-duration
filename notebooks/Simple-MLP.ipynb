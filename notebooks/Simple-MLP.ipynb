{
 "cells": [
  {
   "cell_type": "code",
   "execution_count": 21,
   "metadata": {},
   "outputs": [
    {
     "name": "stdout",
     "output_type": "stream",
     "text": [
      "The autoreload extension is already loaded. To reload it, use:\n",
      "  %reload_ext autoreload\n"
     ]
    }
   ],
   "source": [
    "%load_ext autoreload\n",
    "%autoreload 2"
   ]
  },
  {
   "cell_type": "code",
   "execution_count": 22,
   "metadata": {
    "collapsed": true
   },
   "outputs": [],
   "source": [
    "%matplotlib inline\n",
    "from utils import preprocess"
   ]
  },
  {
   "cell_type": "code",
   "execution_count": 23,
   "metadata": {
    "collapsed": true
   },
   "outputs": [],
   "source": [
    "import numpy as np\n",
    "import pandas as pd\n",
    "import os"
   ]
  },
  {
   "cell_type": "code",
   "execution_count": 24,
   "metadata": {
    "collapsed": true
   },
   "outputs": [],
   "source": [
    "from sklearn.model_selection import train_test_split\n",
    "from sklearn.metrics import mean_squared_error"
   ]
  },
  {
   "cell_type": "code",
   "execution_count": 25,
   "metadata": {},
   "outputs": [],
   "source": [
    "from keras.models import Model\n",
    "from keras.layers import Dense, Activation, Dropout\n",
    "from keras.layers import Input"
   ]
  },
  {
   "cell_type": "code",
   "execution_count": 6,
   "metadata": {
    "collapsed": true
   },
   "outputs": [],
   "source": [
    "DATA_PATH = os.path.join('../data')\n",
    "TRAIN_FILE = os.path.join(DATA_PATH, 'train.csv')\n",
    "TEST_FILE = os.path.join(DATA_PATH, 'test.csv')"
   ]
  },
  {
   "cell_type": "code",
   "execution_count": 26,
   "metadata": {
    "collapsed": true
   },
   "outputs": [],
   "source": [
    "train_features = preprocess(TRAIN_FILE)"
   ]
  },
  {
   "cell_type": "code",
   "execution_count": 27,
   "metadata": {},
   "outputs": [
    {
     "data": {
      "text/plain": [
       "Index([u'id', u'vendor_id', u'pickup_datetime', u'dropoff_datetime',\n",
       "       u'passenger_count', u'pickup_longitude', u'pickup_latitude',\n",
       "       u'dropoff_longitude', u'dropoff_latitude', u'store_and_fwd_flag',\n",
       "       u'trip_duration', u'pickup_hr', u'pickup_min', u'pickup_sec',\n",
       "       u'pickup_day', u'pickup_date', u'pickup_mon', u'quarter', u'weekday',\n",
       "       u'holiday', u'st_dist', u'h_dist', u'travel_dir', u'bearing',\n",
       "       u's_pickup_latitude', u's_pickup_longitude', u's_dropoff_latitude',\n",
       "       u's_dropoff_longitude', u'flag', u'month_end', u'month_start'],\n",
       "      dtype='object')"
      ]
     },
     "execution_count": 27,
     "metadata": {},
     "output_type": "execute_result"
    }
   ],
   "source": [
    "train_features.columns"
   ]
  },
  {
   "cell_type": "code",
   "execution_count": 28,
   "metadata": {
    "collapsed": true
   },
   "outputs": [],
   "source": [
    "X = train_features[[u'vendor_id',\n",
    "       u'passenger_count', u'pickup_hr', u'pickup_min', u'pickup_sec',\n",
    "       u'pickup_day', u'pickup_mon', u'weekday',\n",
    "       u'holiday', u'st_dist', u'h_dist', u'bearing',\n",
    "       u's_pickup_latitude', u's_pickup_longitude', u's_dropoff_latitude',\n",
    "       u's_dropoff_longitude', u'flag', u'month_end', u'month_start']].as_matrix()\n",
    "y = train_features['trip_duration']"
   ]
  },
  {
   "cell_type": "code",
   "execution_count": 29,
   "metadata": {},
   "outputs": [
    {
     "name": "stdout",
     "output_type": "stream",
     "text": [
      "(1458644, 19)\n",
      "(1458644,)\n"
     ]
    }
   ],
   "source": [
    "print X.shape\n",
    "print y.shape"
   ]
  },
  {
   "cell_type": "code",
   "execution_count": 30,
   "metadata": {
    "collapsed": true
   },
   "outputs": [],
   "source": [
    "X_train, X_test, y_train, y_test = train_test_split(X, y, test_size=0.2)"
   ]
  },
  {
   "cell_type": "code",
   "execution_count": 94,
   "metadata": {
    "collapsed": true
   },
   "outputs": [],
   "source": [
    "from keras.optimizers import Adam, RMSprop"
   ]
  },
  {
   "cell_type": "code",
   "execution_count": 32,
   "metadata": {
    "collapsed": true
   },
   "outputs": [],
   "source": [
    "from keras.layers import BatchNormalization"
   ]
  },
  {
   "cell_type": "code",
   "execution_count": 33,
   "metadata": {
    "collapsed": true
   },
   "outputs": [],
   "source": [
    "from keras import backend as K\n",
    "def root_mean_squared_logarithmic_error(y_true, y_pred):\n",
    "    #y_pred = K.round(y_pred)\n",
    "    first_log = K.log(K.clip(y_pred, K.epsilon(), None) + 1.)\n",
    "    second_log = K.log(K.clip(y_true, K.epsilon(), None) + 1.)\n",
    "    return K.sqrt(K.mean(K.square(first_log - second_log)))\n",
    "\n",
    "rmsle = root_mean_squared_logarithmic_error"
   ]
  },
  {
   "cell_type": "code",
   "execution_count": 91,
   "metadata": {
    "collapsed": true
   },
   "outputs": [],
   "source": [
    "learning_rate = 0.0001"
   ]
  },
  {
   "cell_type": "code",
   "execution_count": 101,
   "metadata": {},
   "outputs": [],
   "source": [
    "_input = Input(shape=(19,))\n",
    "#_norm = BatchNormalization()(_input)\n",
    "layer1 = Dense(100, activation='linear')(_input)\n",
    "layer2 = Dense(20, activation='relu')(layer1)\n",
    "_output = Dense(1, activation='relu')(layer2)\n",
    "\n",
    "model = Model(inputs=[_input], outputs=[_output])\n",
    "optimizer = Adam(learning_rate)\n",
    "model.compile(optimizer=optimizer,\n",
    "             loss=rmsle)"
   ]
  },
  {
   "cell_type": "code",
   "execution_count": 102,
   "metadata": {},
   "outputs": [
    {
     "name": "stdout",
     "output_type": "stream",
     "text": [
      "Train on 933532 samples, validate on 233383 samples\n",
      "Epoch 1/100\n",
      "933532/933532 [==============================] - 4s - loss: 2.1176 - val_loss: 1.2659\n",
      "Epoch 2/100\n",
      "933532/933532 [==============================] - 4s - loss: 1.0048 - val_loss: 0.8806\n",
      "Epoch 3/100\n",
      "933532/933532 [==============================] - 4s - loss: 0.8646 - val_loss: 0.8566\n",
      "Epoch 4/100\n",
      "933532/933532 [==============================] - 4s - loss: 0.8526 - val_loss: 0.8473\n",
      "Epoch 5/100\n",
      "933532/933532 [==============================] - 4s - loss: 0.8425 - val_loss: 0.8362\n",
      "Epoch 6/100\n",
      "933532/933532 [==============================] - 4s - loss: 0.8310 - val_loss: 0.8244\n",
      "Epoch 7/100\n",
      "933532/933532 [==============================] - 4s - loss: 0.8198 - val_loss: 0.8142\n",
      "Epoch 8/100\n",
      "933532/933532 [==============================] - 4s - loss: 0.8110 - val_loss: 0.8065\n",
      "Epoch 9/100\n",
      "933532/933532 [==============================] - 4s - loss: 0.8041 - val_loss: 0.8005\n",
      "Epoch 10/100\n",
      "933532/933532 [==============================] - 4s - loss: 0.7988 - val_loss: 0.7960\n",
      "Epoch 11/100\n",
      "933532/933532 [==============================] - 4s - loss: 0.7949 - val_loss: 0.7925\n",
      "Epoch 12/100\n",
      "933532/933532 [==============================] - 4s - loss: 0.7916 - val_loss: 0.7895\n",
      "Epoch 13/100\n",
      "933532/933532 [==============================] - 4s - loss: 0.7889 - val_loss: 0.7871\n",
      "Epoch 14/100\n",
      "933532/933532 [==============================] - 4s - loss: 0.7865 - val_loss: 0.7851\n",
      "Epoch 15/100\n",
      "933532/933532 [==============================] - 4s - loss: 0.7846 - val_loss: 0.7832\n",
      "Epoch 16/100\n",
      "933532/933532 [==============================] - 4s - loss: 0.7828 - val_loss: 0.7815\n",
      "Epoch 17/100\n",
      "933532/933532 [==============================] - 4s - loss: 0.7810 - val_loss: 0.7796\n",
      "Epoch 18/100\n",
      "933532/933532 [==============================] - 4s - loss: 0.7791 - val_loss: 0.7777\n",
      "Epoch 19/100\n",
      "933532/933532 [==============================] - 4s - loss: 0.7770 - val_loss: 0.7754\n",
      "Epoch 20/100\n",
      "933532/933532 [==============================] - 4s - loss: 0.7745 - val_loss: 0.7728\n",
      "Epoch 21/100\n",
      "933532/933532 [==============================] - 4s - loss: 0.7717 - val_loss: 0.7698\n",
      "Epoch 22/100\n",
      "933532/933532 [==============================] - 4s - loss: 0.7684 - val_loss: 0.7662\n",
      "Epoch 23/100\n",
      "933532/933532 [==============================] - 4s - loss: 0.7646 - val_loss: 0.7620\n",
      "Epoch 24/100\n",
      "933532/933532 [==============================] - 4s - loss: 0.7600 - val_loss: 0.7569\n",
      "Epoch 25/100\n",
      "933532/933532 [==============================] - 4s - loss: 0.7545 - val_loss: 0.7510\n",
      "Epoch 26/100\n",
      "933532/933532 [==============================] - 4s - loss: 0.7480 - val_loss: 0.7441\n",
      "Epoch 27/100\n",
      "933532/933532 [==============================] - 4s - loss: 0.7407 - val_loss: 0.7360\n",
      "Epoch 28/100\n",
      "933532/933532 [==============================] - 4s - loss: 0.7322 - val_loss: 0.7270\n",
      "Epoch 29/100\n",
      "933532/933532 [==============================] - 4s - loss: 0.7228 - val_loss: 0.7170\n",
      "Epoch 30/100\n",
      "933532/933532 [==============================] - 4s - loss: 0.7125 - val_loss: 0.7065\n",
      "Epoch 31/100\n",
      "933532/933532 [==============================] - 4s - loss: 0.7014 - val_loss: 0.6948\n",
      "Epoch 32/100\n",
      "933532/933532 [==============================] - 4s - loss: 0.6898 - val_loss: 0.6829\n",
      "Epoch 33/100\n",
      "933532/933532 [==============================] - 4s - loss: 0.6777 - val_loss: 0.6708\n",
      "Epoch 34/100\n",
      "933532/933532 [==============================] - 4s - loss: 0.6654 - val_loss: 0.6584\n",
      "Epoch 35/100\n",
      "933532/933532 [==============================] - 4s - loss: 0.6532 - val_loss: 0.6463\n",
      "Epoch 36/100\n",
      "933532/933532 [==============================] - 4s - loss: 0.6411 - val_loss: 0.6338\n",
      "Epoch 37/100\n",
      "933532/933532 [==============================] - 4s - loss: 0.6293 - val_loss: 0.6222\n",
      "Epoch 38/100\n",
      "933532/933532 [==============================] - 4s - loss: 0.6178 - val_loss: 0.6111\n",
      "Epoch 39/100\n",
      "933532/933532 [==============================] - 4s - loss: 0.6069 - val_loss: 0.6005\n",
      "Epoch 40/100\n",
      "933532/933532 [==============================] - 4s - loss: 0.5966 - val_loss: 0.5900\n",
      "Epoch 41/100\n",
      "933532/933532 [==============================] - 4s - loss: 0.5869 - val_loss: 0.5811\n",
      "Epoch 42/100\n",
      "933532/933532 [==============================] - 4s - loss: 0.5778 - val_loss: 0.5726\n",
      "Epoch 43/100\n",
      "933532/933532 [==============================] - 4s - loss: 0.5696 - val_loss: 0.5639\n",
      "Epoch 44/100\n",
      "933532/933532 [==============================] - 4s - loss: 0.5621 - val_loss: 0.5565\n",
      "Epoch 45/100\n",
      "933532/933532 [==============================] - 4s - loss: 0.5552 - val_loss: 0.5499\n",
      "Epoch 46/100\n",
      "933532/933532 [==============================] - 4s - loss: 0.5491 - val_loss: 0.5446\n",
      "Epoch 47/100\n",
      "933532/933532 [==============================] - 4s - loss: 0.5436 - val_loss: 0.5392\n",
      "Epoch 48/100\n",
      "933532/933532 [==============================] - 4s - loss: 0.5388 - val_loss: 0.5346\n",
      "Epoch 49/100\n",
      "933532/933532 [==============================] - 4s - loss: 0.5348 - val_loss: 0.5318\n",
      "Epoch 50/100\n",
      "933532/933532 [==============================] - 4s - loss: 0.5315 - val_loss: 0.5288\n",
      "Epoch 51/100\n",
      "933532/933532 [==============================] - 4s - loss: 0.5286 - val_loss: 0.5261\n",
      "Epoch 52/100\n",
      "933532/933532 [==============================] - 4s - loss: 0.5259 - val_loss: 0.5226\n",
      "Epoch 53/100\n",
      "933532/933532 [==============================] - 5s - loss: 0.5240 - val_loss: 0.5206\n",
      "Epoch 54/100\n",
      "933532/933532 [==============================] - 4s - loss: 0.5220 - val_loss: 0.5189\n",
      "Epoch 55/100\n",
      "933532/933532 [==============================] - 5s - loss: 0.5201 - val_loss: 0.5165\n",
      "Epoch 56/100\n",
      "933532/933532 [==============================] - 5s - loss: 0.5182 - val_loss: 0.5148\n",
      "Epoch 57/100\n",
      "933532/933532 [==============================] - 5s - loss: 0.5167 - val_loss: 0.5140\n",
      "Epoch 58/100\n",
      "933532/933532 [==============================] - 3s - loss: 0.5154 - val_loss: 0.5135\n",
      "Epoch 59/100\n",
      "933532/933532 [==============================] - 3s - loss: 0.5144 - val_loss: 0.5126\n",
      "Epoch 60/100\n",
      "933532/933532 [==============================] - 3s - loss: 0.5138 - val_loss: 0.5108\n",
      "Epoch 61/100\n",
      "933532/933532 [==============================] - 3s - loss: 0.5134 - val_loss: 0.5104\n",
      "Epoch 62/100\n",
      "933532/933532 [==============================] - 4s - loss: 0.5130 - val_loss: 0.5106\n",
      "Epoch 63/100\n",
      "933532/933532 [==============================] - 5s - loss: 0.5126 - val_loss: 0.5097\n",
      "Epoch 64/100\n",
      "933532/933532 [==============================] - 5s - loss: 0.5124 - val_loss: 0.5102\n",
      "Epoch 65/100\n",
      "933532/933532 [==============================] - 5s - loss: 0.5124 - val_loss: 0.5108\n",
      "Epoch 66/100\n",
      "933532/933532 [==============================] - 5s - loss: 0.5120 - val_loss: 0.5090\n",
      "Epoch 67/100\n",
      "933532/933532 [==============================] - 5s - loss: 0.5117 - val_loss: 0.5091\n",
      "Epoch 68/100\n",
      "933532/933532 [==============================] - 5s - loss: 0.5114 - val_loss: 0.5092\n",
      "Epoch 69/100\n",
      "933532/933532 [==============================] - 5s - loss: 0.5113 - val_loss: 0.5083\n",
      "Epoch 70/100\n",
      "933532/933532 [==============================] - 5s - loss: 0.5112 - val_loss: 0.5080\n",
      "Epoch 71/100\n",
      "933532/933532 [==============================] - 5s - loss: 0.5108 - val_loss: 0.5078\n",
      "Epoch 72/100\n",
      "933532/933532 [==============================] - 5s - loss: 0.5106 - val_loss: 0.5079\n",
      "Epoch 73/100\n",
      "933532/933532 [==============================] - 5s - loss: 0.5104 - val_loss: 0.5075\n",
      "Epoch 74/100\n",
      "933532/933532 [==============================] - 5s - loss: 0.5101 - val_loss: 0.5086\n",
      "Epoch 75/100\n",
      "933532/933532 [==============================] - 5s - loss: 0.5102 - val_loss: 0.5069\n",
      "Epoch 76/100\n",
      "933532/933532 [==============================] - 5s - loss: 0.5097 - val_loss: 0.5072\n",
      "Epoch 77/100\n",
      "933532/933532 [==============================] - 5s - loss: 0.5097 - val_loss: 0.5130\n",
      "Epoch 78/100\n",
      "933532/933532 [==============================] - 5s - loss: 0.5094 - val_loss: 0.5069\n",
      "Epoch 79/100\n",
      "933532/933532 [==============================] - 5s - loss: 0.5093 - val_loss: 0.5064\n",
      "Epoch 80/100\n",
      "933532/933532 [==============================] - 5s - loss: 0.5093 - val_loss: 0.5061\n",
      "Epoch 81/100\n",
      "933532/933532 [==============================] - 5s - loss: 0.5089 - val_loss: 0.5066\n",
      "Epoch 82/100\n",
      "933532/933532 [==============================] - 5s - loss: 0.5087 - val_loss: 0.5056\n",
      "Epoch 83/100\n"
     ]
    },
    {
     "name": "stdout",
     "output_type": "stream",
     "text": [
      "933532/933532 [==============================] - 4s - loss: 0.5087 - val_loss: 0.5054\n",
      "Epoch 84/100\n",
      "933532/933532 [==============================] - 4s - loss: 0.5082 - val_loss: 0.5052\n",
      "Epoch 85/100\n",
      "933532/933532 [==============================] - 5s - loss: 0.5082 - val_loss: 0.5082\n",
      "Epoch 86/100\n",
      "933532/933532 [==============================] - 5s - loss: 0.5078 - val_loss: 0.5047\n",
      "Epoch 87/100\n",
      "933532/933532 [==============================] - 4s - loss: 0.5078 - val_loss: 0.5061\n",
      "Epoch 88/100\n",
      "933532/933532 [==============================] - 5s - loss: 0.5075 - val_loss: 0.5044\n",
      "Epoch 89/100\n",
      "933532/933532 [==============================] - 4s - loss: 0.5074 - val_loss: 0.5041\n",
      "Epoch 90/100\n",
      "933532/933532 [==============================] - 4s - loss: 0.5070 - val_loss: 0.5059\n",
      "Epoch 91/100\n",
      "933532/933532 [==============================] - 6s - loss: 0.5068 - val_loss: 0.5038\n",
      "Epoch 92/100\n",
      "933532/933532 [==============================] - 5s - loss: 0.5065 - val_loss: 0.5050\n",
      "Epoch 93/100\n",
      "933532/933532 [==============================] - 3s - loss: 0.5065 - val_loss: 0.5032\n",
      "Epoch 94/100\n",
      "933532/933532 [==============================] - 3s - loss: 0.5060 - val_loss: 0.5029\n",
      "Epoch 95/100\n",
      "933532/933532 [==============================] - 3s - loss: 0.5061 - val_loss: 0.5029\n",
      "Epoch 96/100\n",
      "933532/933532 [==============================] - 3s - loss: 0.5058 - val_loss: 0.5025\n",
      "Epoch 97/100\n",
      "933532/933532 [==============================] - 3s - loss: 0.5054 - val_loss: 0.5023\n",
      "Epoch 98/100\n",
      "933532/933532 [==============================] - 4s - loss: 0.5052 - val_loss: 0.5026\n",
      "Epoch 99/100\n",
      "933532/933532 [==============================] - 5s - loss: 0.5051 - val_loss: 0.5021\n",
      "Epoch 100/100\n",
      "933532/933532 [==============================] - 5s - loss: 0.5050 - val_loss: 0.5019\n"
     ]
    }
   ],
   "source": [
    "from keras.callbacks import ModelCheckpoint\n",
    "from keras.callbacks import ReduceLROnPlateau, LearningRateScheduler\n",
    "\n",
    "checkpoint = ModelCheckpoint('weights.h5', save_best_only=True,\n",
    "                             monitor='val_loss', verbose=0)\n",
    "reduce_lr = ReduceLROnPlateau(monitor='loss', factor=0.2,\n",
    "              patience=10, verbose=1)\n",
    "\n",
    "def scheduler(epoch):\n",
    "    if epoch < 40:\n",
    "        return learning_rate\n",
    "    if epoch > 40 and epoch < 80:\n",
    "        return learning_rate * 0.1\n",
    "    else:\n",
    "        return learning_rate * 0.05\n",
    "    \n",
    "lr_scheduler = LearningRateScheduler(scheduler)\n",
    "results = model.fit(X_train, y_train, \n",
    "                    batch_size=1024,\n",
    "                    epochs=100, callbacks=[checkpoint],\n",
    "                    validation_split=0.2)"
   ]
  },
  {
   "cell_type": "code",
   "execution_count": 103,
   "metadata": {},
   "outputs": [
    {
     "data": {
      "image/png": "[encoded data removed]",
      "text/plain": [
       "<matplotlib.figure.Figure at 0x120237650>"
      ]
     },
     "metadata": {},
     "output_type": "display_data"
    }
   ],
   "source": [
    "from matplotlib import pyplot as plt\n",
    "plt.plot(results.epoch, np.log(results.history['loss']), label='loss')\n",
    "plt.plot(results.epoch, np.log(results.history['val_loss']), label='val_loss')\n",
    "plt.xlabel('Epoch')\n",
    "plt.ylabel('RMSLE')\n",
    "plt.legend()\n",
    "plt.show()"
   ]
  },
  {
   "cell_type": "code",
   "execution_count": 104,
   "metadata": {
    "collapsed": true
   },
   "outputs": [],
   "source": [
    "model.load_weights('weights.h5')"
   ]
  },
  {
   "cell_type": "code",
   "execution_count": 105,
   "metadata": {},
   "outputs": [
    {
     "name": "stdout",
     "output_type": "stream",
     "text": [
      "Test MSE: 52388691.1806\n"
     ]
    }
   ],
   "source": [
    "y_test_hat = model.predict(X_test)\n",
    "print 'Test MSE: {}'.format(mean_squared_error(y_test, y_test_hat))"
   ]
  },
  {
   "cell_type": "code",
   "execution_count": 106,
   "metadata": {},
   "outputs": [
    {
     "name": "stdout",
     "output_type": "stream",
     "text": [
      "0.505092\n"
     ]
    }
   ],
   "source": [
    "test_loss = []\n",
    "for yt, yth in zip(y_test, y_test_hat):\n",
    "    diff = np.log(yt + 1.) - np.log(yth + 1.)\n",
    "    test_loss.append(diff ** 2)\n",
    "print np.sqrt(np.mean(test_loss))"
   ]
  },
  {
   "cell_type": "code",
   "execution_count": 107,
   "metadata": {},
   "outputs": [
    {
     "data": {
      "text/plain": [
       "22.518698"
      ]
     },
     "execution_count": 107,
     "metadata": {},
     "output_type": "execute_result"
    }
   ],
   "source": [
    "np.min(y_test_hat)"
   ]
  },
  {
   "cell_type": "code",
   "execution_count": 108,
   "metadata": {
    "collapsed": true
   },
   "outputs": [],
   "source": [
    "test_features = preprocess(TEST_FILE)"
   ]
  },
  {
   "cell_type": "code",
   "execution_count": 109,
   "metadata": {
    "collapsed": true
   },
   "outputs": [],
   "source": [
    "test_ = test_features[[u'vendor_id',\n",
    "       u'passenger_count', u'pickup_hr', u'pickup_min', u'pickup_sec',\n",
    "       u'pickup_day', u'pickup_mon', u'weekday',\n",
    "       u'holiday', u'st_dist', u'h_dist', u'bearing',\n",
    "       u's_pickup_latitude', u's_pickup_longitude', u's_dropoff_latitude',\n",
    "       u's_dropoff_longitude', u'flag', u'month_end', u'month_start']]"
   ]
  },
  {
   "cell_type": "code",
   "execution_count": 110,
   "metadata": {},
   "outputs": [
    {
     "name": "stdout",
     "output_type": "stream",
     "text": [
      "(625134, 1)\n"
     ]
    }
   ],
   "source": [
    "pred = model.predict(test_.as_matrix())\n",
    "print pred.shape"
   ]
  },
  {
   "cell_type": "code",
   "execution_count": 111,
   "metadata": {
    "collapsed": true
   },
   "outputs": [],
   "source": [
    "with open('predictions.txt', 'w') as _file:\n",
    "    _file.write('id,trip_duration\\n')\n",
    "    for tid, p in zip(test_features['id'], pred):\n",
    "        # tid, pred = example[0], model.predict(np.array([example[1:]]))\n",
    "        p = p[0]\n",
    "        _file.write('{},{}\\n'.format(tid, p))"
   ]
  },
  {
   "cell_type": "code",
   "execution_count": 112,
   "metadata": {},
   "outputs": [
    {
     "name": "stdout",
     "output_type": "stream",
     "text": [
      "  625135 predictions.txt\r\n"
     ]
    }
   ],
   "source": [
    "!wc -l predictions.txt"
   ]
  },
  {
   "cell_type": "code",
   "execution_count": 113,
   "metadata": {
    "collapsed": true
   },
   "outputs": [],
   "source": [
    "p = pd.read_csv('predictions.txt')"
   ]
  },
  {
   "cell_type": "code",
   "execution_count": 114,
   "metadata": {},
   "outputs": [
    {
     "data": {
      "text/html": [
       "<div>\n",
       "<style>\n",
       "    .dataframe thead tr:only-child th {\n",
       "        text-align: right;\n",
       "    }\n",
       "\n",
       "    .dataframe thead th {\n",
       "        text-align: left;\n",
       "    }\n",
       "\n",
       "    .dataframe tbody tr th {\n",
       "        vertical-align: top;\n",
       "    }\n",
       "</style>\n",
       "<table border=\"1\" class=\"dataframe\">\n",
       "  <thead>\n",
       "    <tr style=\"text-align: right;\">\n",
       "      <th></th>\n",
       "      <th>trip_duration</th>\n",
       "    </tr>\n",
       "  </thead>\n",
       "  <tbody>\n",
       "    <tr>\n",
       "      <th>count</th>\n",
       "      <td>625134.000000</td>\n",
       "    </tr>\n",
       "    <tr>\n",
       "      <th>mean</th>\n",
       "      <td>841.431122</td>\n",
       "    </tr>\n",
       "    <tr>\n",
       "      <th>std</th>\n",
       "      <td>714.974251</td>\n",
       "    </tr>\n",
       "    <tr>\n",
       "      <th>min</th>\n",
       "      <td>0.260054</td>\n",
       "    </tr>\n",
       "    <tr>\n",
       "      <th>25%</th>\n",
       "      <td>448.868927</td>\n",
       "    </tr>\n",
       "    <tr>\n",
       "      <th>50%</th>\n",
       "      <td>634.111786</td>\n",
       "    </tr>\n",
       "    <tr>\n",
       "      <th>75%</th>\n",
       "      <td>958.211914</td>\n",
       "    </tr>\n",
       "    <tr>\n",
       "      <th>max</th>\n",
       "      <td>154861.500000</td>\n",
       "    </tr>\n",
       "  </tbody>\n",
       "</table>\n",
       "</div>"
      ],
      "text/plain": [
       "       trip_duration\n",
       "count  625134.000000\n",
       "mean      841.431122\n",
       "std       714.974251\n",
       "min         0.260054\n",
       "25%       448.868927\n",
       "50%       634.111786\n",
       "75%       958.211914\n",
       "max    154861.500000"
      ]
     },
     "execution_count": 114,
     "metadata": {},
     "output_type": "execute_result"
    }
   ],
   "source": [
    "p.describe()"
   ]
  },
  {
   "cell_type": "code",
   "execution_count": 115,
   "metadata": {
    "collapsed": true
   },
   "outputs": [],
   "source": [
    "z = pd.DataFrame(y_train)"
   ]
  },
  {
   "cell_type": "code",
   "execution_count": 116,
   "metadata": {},
   "outputs": [
    {
     "data": {
      "text/html": [
       "<div>\n",
       "<style>\n",
       "    .dataframe thead tr:only-child th {\n",
       "        text-align: right;\n",
       "    }\n",
       "\n",
       "    .dataframe thead th {\n",
       "        text-align: left;\n",
       "    }\n",
       "\n",
       "    .dataframe tbody tr th {\n",
       "        vertical-align: top;\n",
       "    }\n",
       "</style>\n",
       "<table border=\"1\" class=\"dataframe\">\n",
       "  <thead>\n",
       "    <tr style=\"text-align: right;\">\n",
       "      <th></th>\n",
       "      <th>trip_duration</th>\n",
       "    </tr>\n",
       "  </thead>\n",
       "  <tbody>\n",
       "    <tr>\n",
       "      <th>count</th>\n",
       "      <td>1.166915e+06</td>\n",
       "    </tr>\n",
       "    <tr>\n",
       "      <th>mean</th>\n",
       "      <td>9.585794e+02</td>\n",
       "    </tr>\n",
       "    <tr>\n",
       "      <th>std</th>\n",
       "      <td>4.597865e+03</td>\n",
       "    </tr>\n",
       "    <tr>\n",
       "      <th>min</th>\n",
       "      <td>1.000000e+00</td>\n",
       "    </tr>\n",
       "    <tr>\n",
       "      <th>25%</th>\n",
       "      <td>3.970000e+02</td>\n",
       "    </tr>\n",
       "    <tr>\n",
       "      <th>50%</th>\n",
       "      <td>6.630000e+02</td>\n",
       "    </tr>\n",
       "    <tr>\n",
       "      <th>75%</th>\n",
       "      <td>1.075000e+03</td>\n",
       "    </tr>\n",
       "    <tr>\n",
       "      <th>max</th>\n",
       "      <td>2.227612e+06</td>\n",
       "    </tr>\n",
       "  </tbody>\n",
       "</table>\n",
       "</div>"
      ],
      "text/plain": [
       "       trip_duration\n",
       "count   1.166915e+06\n",
       "mean    9.585794e+02\n",
       "std     4.597865e+03\n",
       "min     1.000000e+00\n",
       "25%     3.970000e+02\n",
       "50%     6.630000e+02\n",
       "75%     1.075000e+03\n",
       "max     2.227612e+06"
      ]
     },
     "execution_count": 116,
     "metadata": {},
     "output_type": "execute_result"
    }
   ],
   "source": [
    "z.describe()"
   ]
  },
  {
   "cell_type": "code",
   "execution_count": null,
   "metadata": {
    "collapsed": true
   },
   "outputs": [],
   "source": []
  }
 ],
 "metadata": {
  "kernelspec": {
   "display_name": "Python 2",
   "language": "python",
   "name": "python2"
  },
  "language_info": {
   "codemirror_mode": {
    "name": "ipython",
    "version": 2
   },
   "file_extension": ".py",
   "mimetype": "text/x-python",
   "name": "python",
   "nbconvert_exporter": "python",
   "pygments_lexer": "ipython2",
   "version": "2.7.13"
  }
 },
 "nbformat": 4,
 "nbformat_minor": 2
}
