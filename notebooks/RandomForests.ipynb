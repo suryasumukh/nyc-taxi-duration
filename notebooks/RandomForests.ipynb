{
 "cells": [
  {
   "cell_type": "code",
   "execution_count": 1,
   "metadata": {
    "collapsed": true
   },
   "outputs": [],
   "source": [
    "import pandas as pd\n",
    "import numpy as np"
   ]
  },
  {
   "cell_type": "code",
   "execution_count": 2,
   "metadata": {
    "collapsed": true
   },
   "outputs": [],
   "source": [
    "import os\n",
    "DATA_FILE = os.path.join('../data', 'train_features.csv')"
   ]
  },
  {
   "cell_type": "code",
   "execution_count": 3,
   "metadata": {
    "collapsed": true
   },
   "outputs": [],
   "source": [
    "data = pd.read_csv(DATA_FILE)"
   ]
  },
  {
   "cell_type": "code",
   "execution_count": 4,
   "metadata": {},
   "outputs": [
    {
     "data": {
      "text/html": [
       "<div>\n",
       "<style>\n",
       "    .dataframe thead tr:only-child th {\n",
       "        text-align: right;\n",
       "    }\n",
       "\n",
       "    .dataframe thead th {\n",
       "        text-align: left;\n",
       "    }\n",
       "\n",
       "    .dataframe tbody tr th {\n",
       "        vertical-align: top;\n",
       "    }\n",
       "</style>\n",
       "<table border=\"1\" class=\"dataframe\">\n",
       "  <thead>\n",
       "    <tr style=\"text-align: right;\">\n",
       "      <th></th>\n",
       "      <th>id</th>\n",
       "      <th>vendor_id</th>\n",
       "      <th>passenger_count</th>\n",
       "      <th>trip_duration</th>\n",
       "      <th>pickup_hr</th>\n",
       "      <th>pickup_min</th>\n",
       "      <th>pickup_sec</th>\n",
       "      <th>pickup_day</th>\n",
       "      <th>pickup_date</th>\n",
       "      <th>pickup_mon</th>\n",
       "      <th>...</th>\n",
       "      <th>dropoff_day</th>\n",
       "      <th>dropoff_date</th>\n",
       "      <th>dropoff_mon</th>\n",
       "      <th>dropoff_yr</th>\n",
       "      <th>st_dist</th>\n",
       "      <th>s_pickup_latitude</th>\n",
       "      <th>s_pickup_longitude</th>\n",
       "      <th>s_dropoff_latitude</th>\n",
       "      <th>s_dropoff_longitude</th>\n",
       "      <th>flag</th>\n",
       "    </tr>\n",
       "  </thead>\n",
       "  <tbody>\n",
       "    <tr>\n",
       "      <th>0</th>\n",
       "      <td>id2875421</td>\n",
       "      <td>2</td>\n",
       "      <td>1</td>\n",
       "      <td>455</td>\n",
       "      <td>17</td>\n",
       "      <td>24</td>\n",
       "      <td>55</td>\n",
       "      <td>0</td>\n",
       "      <td>14</td>\n",
       "      <td>3</td>\n",
       "      <td>...</td>\n",
       "      <td>0</td>\n",
       "      <td>14</td>\n",
       "      <td>3</td>\n",
       "      <td>2016</td>\n",
       "      <td>0.017680</td>\n",
       "      <td>0.365738</td>\n",
       "      <td>0.791302</td>\n",
       "      <td>0.731222</td>\n",
       "      <td>0.791591</td>\n",
       "      <td>0</td>\n",
       "    </tr>\n",
       "    <tr>\n",
       "      <th>1</th>\n",
       "      <td>id2377394</td>\n",
       "      <td>1</td>\n",
       "      <td>1</td>\n",
       "      <td>663</td>\n",
       "      <td>0</td>\n",
       "      <td>43</td>\n",
       "      <td>35</td>\n",
       "      <td>6</td>\n",
       "      <td>12</td>\n",
       "      <td>6</td>\n",
       "      <td>...</td>\n",
       "      <td>6</td>\n",
       "      <td>12</td>\n",
       "      <td>6</td>\n",
       "      <td>2016</td>\n",
       "      <td>0.020456</td>\n",
       "      <td>0.364062</td>\n",
       "      <td>0.791331</td>\n",
       "      <td>0.728287</td>\n",
       "      <td>0.791016</td>\n",
       "      <td>0</td>\n",
       "    </tr>\n",
       "    <tr>\n",
       "      <th>2</th>\n",
       "      <td>id3858529</td>\n",
       "      <td>2</td>\n",
       "      <td>1</td>\n",
       "      <td>2124</td>\n",
       "      <td>11</td>\n",
       "      <td>35</td>\n",
       "      <td>24</td>\n",
       "      <td>1</td>\n",
       "      <td>19</td>\n",
       "      <td>1</td>\n",
       "      <td>...</td>\n",
       "      <td>1</td>\n",
       "      <td>19</td>\n",
       "      <td>1</td>\n",
       "      <td>2016</td>\n",
       "      <td>0.059934</td>\n",
       "      <td>0.365510</td>\n",
       "      <td>0.791354</td>\n",
       "      <td>0.726493</td>\n",
       "      <td>0.790920</td>\n",
       "      <td>0</td>\n",
       "    </tr>\n",
       "    <tr>\n",
       "      <th>3</th>\n",
       "      <td>id3504673</td>\n",
       "      <td>2</td>\n",
       "      <td>1</td>\n",
       "      <td>429</td>\n",
       "      <td>19</td>\n",
       "      <td>32</td>\n",
       "      <td>31</td>\n",
       "      <td>2</td>\n",
       "      <td>6</td>\n",
       "      <td>4</td>\n",
       "      <td>...</td>\n",
       "      <td>2</td>\n",
       "      <td>6</td>\n",
       "      <td>4</td>\n",
       "      <td>2016</td>\n",
       "      <td>0.013438</td>\n",
       "      <td>0.363001</td>\n",
       "      <td>0.790842</td>\n",
       "      <td>0.726206</td>\n",
       "      <td>0.790805</td>\n",
       "      <td>0</td>\n",
       "    </tr>\n",
       "    <tr>\n",
       "      <th>4</th>\n",
       "      <td>id2181028</td>\n",
       "      <td>2</td>\n",
       "      <td>1</td>\n",
       "      <td>435</td>\n",
       "      <td>13</td>\n",
       "      <td>30</td>\n",
       "      <td>55</td>\n",
       "      <td>5</td>\n",
       "      <td>26</td>\n",
       "      <td>3</td>\n",
       "      <td>...</td>\n",
       "      <td>5</td>\n",
       "      <td>26</td>\n",
       "      <td>3</td>\n",
       "      <td>2016</td>\n",
       "      <td>0.010690</td>\n",
       "      <td>0.367181</td>\n",
       "      <td>0.791452</td>\n",
       "      <td>0.732663</td>\n",
       "      <td>0.791454</td>\n",
       "      <td>0</td>\n",
       "    </tr>\n",
       "  </tbody>\n",
       "</table>\n",
       "<p>5 rows × 24 columns</p>\n",
       "</div>"
      ],
      "text/plain": [
       "          id  vendor_id  passenger_count  trip_duration  pickup_hr  \\\n",
       "0  id2875421          2                1            455         17   \n",
       "1  id2377394          1                1            663          0   \n",
       "2  id3858529          2                1           2124         11   \n",
       "3  id3504673          2                1            429         19   \n",
       "4  id2181028          2                1            435         13   \n",
       "\n",
       "   pickup_min  pickup_sec  pickup_day  pickup_date  pickup_mon  ...   \\\n",
       "0          24          55           0           14           3  ...    \n",
       "1          43          35           6           12           6  ...    \n",
       "2          35          24           1           19           1  ...    \n",
       "3          32          31           2            6           4  ...    \n",
       "4          30          55           5           26           3  ...    \n",
       "\n",
       "   dropoff_day  dropoff_date  dropoff_mon  dropoff_yr   st_dist  \\\n",
       "0            0            14            3        2016  0.017680   \n",
       "1            6            12            6        2016  0.020456   \n",
       "2            1            19            1        2016  0.059934   \n",
       "3            2             6            4        2016  0.013438   \n",
       "4            5            26            3        2016  0.010690   \n",
       "\n",
       "   s_pickup_latitude  s_pickup_longitude  s_dropoff_latitude  \\\n",
       "0           0.365738            0.791302            0.731222   \n",
       "1           0.364062            0.791331            0.728287   \n",
       "2           0.365510            0.791354            0.726493   \n",
       "3           0.363001            0.790842            0.726206   \n",
       "4           0.367181            0.791452            0.732663   \n",
       "\n",
       "   s_dropoff_longitude  flag  \n",
       "0             0.791591     0  \n",
       "1             0.791016     0  \n",
       "2             0.790920     0  \n",
       "3             0.790805     0  \n",
       "4             0.791454     0  \n",
       "\n",
       "[5 rows x 24 columns]"
      ]
     },
     "execution_count": 4,
     "metadata": {},
     "output_type": "execute_result"
    }
   ],
   "source": [
    "data.head()"
   ]
  },
  {
   "cell_type": "code",
   "execution_count": 5,
   "metadata": {
    "collapsed": true
   },
   "outputs": [],
   "source": [
    "features = data[['vendor_id', 'passenger_count', 'pickup_hr', 'pickup_min', 'pickup_sec',\n",
    "       'pickup_day', 'pickup_date', 'pickup_mon', 'pickup_yr',\n",
    "       'dropoff_hr', 'dropoff_min', 'dropoff_sec', 'dropoff_day',\n",
    "       'dropoff_date', 'dropoff_mon', 'dropoff_yr', 'st_dist',\n",
    "       's_pickup_latitude', 's_pickup_longitude', 's_dropoff_latitude',\n",
    "       's_dropoff_longitude', 'flag']]"
   ]
  },
  {
   "cell_type": "code",
   "execution_count": 6,
   "metadata": {
    "collapsed": true
   },
   "outputs": [],
   "source": [
    "target = data['trip_duration']"
   ]
  },
  {
   "cell_type": "code",
   "execution_count": 7,
   "metadata": {},
   "outputs": [],
   "source": [
    "from sklearn.ensemble import RandomForestRegressor"
   ]
  },
  {
   "cell_type": "code",
   "execution_count": null,
   "metadata": {
    "collapsed": true
   },
   "outputs": [],
   "source": []
  }
 ],
 "metadata": {
  "kernelspec": {
   "display_name": "Python 2",
   "language": "python",
   "name": "python2"
  },
  "language_info": {
   "codemirror_mode": {
    "name": "ipython",
    "version": 2
   },
   "file_extension": ".py",
   "mimetype": "text/x-python",
   "name": "python",
   "nbconvert_exporter": "python",
   "pygments_lexer": "ipython2",
   "version": "2.7.13"
  }
 },
 "nbformat": 4,
 "nbformat_minor": 2
}
