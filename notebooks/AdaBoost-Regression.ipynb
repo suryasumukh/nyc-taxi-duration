{
 "cells": [
  {
   "cell_type": "code",
   "execution_count": 1,
   "metadata": {
    "collapsed": true
   },
   "outputs": [],
   "source": [
    "%load_ext autoreload\n",
    "%autoreload 2"
   ]
  },
  {
   "cell_type": "code",
   "execution_count": 2,
   "metadata": {
    "collapsed": true
   },
   "outputs": [],
   "source": [
    "%matplotlib inline\n",
    "from utils import preprocess"
   ]
  },
  {
   "cell_type": "code",
   "execution_count": 3,
   "metadata": {
    "collapsed": true
   },
   "outputs": [],
   "source": [
    "import pandas as pd\n",
    "import numpy as np\n",
    "import os"
   ]
  },
  {
   "cell_type": "code",
   "execution_count": 4,
   "metadata": {
    "collapsed": true
   },
   "outputs": [],
   "source": [
    "DATA_PATH = os.path.join('../data')\n",
    "TRAIN_FILE = os.path.join(DATA_PATH, 'train.csv')\n",
    "TEST_FILE = os.path.join(DATA_PATH, 'test.csv')"
   ]
  },
  {
   "cell_type": "code",
   "execution_count": 5,
   "metadata": {
    "collapsed": true
   },
   "outputs": [],
   "source": [
    "train_features = preprocess(TRAIN_FILE)"
   ]
  },
  {
   "cell_type": "code",
   "execution_count": 6,
   "metadata": {},
   "outputs": [
    {
     "data": {
      "text/plain": [
       "Index([u'id', u'vendor_id', u'pickup_datetime', u'dropoff_datetime',\n",
       "       u'passenger_count', u'pickup_longitude', u'pickup_latitude',\n",
       "       u'dropoff_longitude', u'dropoff_latitude', u'store_and_fwd_flag',\n",
       "       u'trip_duration', u'pickup_hr', u'pickup_min', u'pickup_sec',\n",
       "       u'pickup_day', u'pickup_date', u'pickup_mon', u'quarter', u'weekday',\n",
       "       u'holiday', u'st_dist', u'h_dist', u'travel_dir', u'bearing',\n",
       "       u's_pickup_latitude', u's_pickup_longitude', u's_dropoff_latitude',\n",
       "       u's_dropoff_longitude', u'flag', u'month_end', u'month_start'],\n",
       "      dtype='object')"
      ]
     },
     "execution_count": 6,
     "metadata": {},
     "output_type": "execute_result"
    }
   ],
   "source": [
    "train_features['bearing'] = train_features['bearing'] * 360\n",
    "train_features.columns"
   ]
  },
  {
   "cell_type": "code",
   "execution_count": 7,
   "metadata": {
    "collapsed": true
   },
   "outputs": [],
   "source": [
    "features = train_features[[u'vendor_id', \n",
    "       u'passenger_count', u'pickup_hr', u'pickup_min', u'pickup_sec',\n",
    "       u'pickup_day', u'pickup_date', u'pickup_mon', u'weekday',\n",
    "       u'holiday', u'st_dist', u'h_dist', u'bearing',\n",
    "       u's_pickup_latitude', u's_pickup_longitude', u's_dropoff_latitude',\n",
    "       u's_dropoff_longitude', u'flag', u'month_end', u'month_start']].astype('float64').as_matrix()\n",
    "targets = train_features['trip_duration'].as_matrix()"
   ]
  },
  {
   "cell_type": "code",
   "execution_count": 8,
   "metadata": {},
   "outputs": [
    {
     "name": "stdout",
     "output_type": "stream",
     "text": [
      "(1458644, 20)\n",
      "(1458644,)\n"
     ]
    }
   ],
   "source": [
    "print features.shape\n",
    "print targets.shape"
   ]
  },
  {
   "cell_type": "code",
   "execution_count": 9,
   "metadata": {
    "collapsed": true
   },
   "outputs": [],
   "source": [
    "from sklearn.tree import DecisionTreeRegressor\n",
    "from sklearn.metrics import mean_squared_error"
   ]
  },
  {
   "cell_type": "code",
   "execution_count": 10,
   "metadata": {
    "collapsed": true
   },
   "outputs": [],
   "source": [
    "from sklearn.model_selection import GridSearchCV\n",
    "from sklearn.model_selection import KFold\n",
    "from sklearn.model_selection import train_test_split"
   ]
  },
  {
   "cell_type": "code",
   "execution_count": 11,
   "metadata": {
    "collapsed": true
   },
   "outputs": [],
   "source": [
    "from matplotlib import pyplot as plt"
   ]
  },
  {
   "cell_type": "code",
   "execution_count": 42,
   "metadata": {
    "collapsed": true
   },
   "outputs": [],
   "source": [
    "samples_idx = np.random.choice(features.shape[0], 500000, replace=False)"
   ]
  },
  {
   "cell_type": "code",
   "execution_count": 43,
   "metadata": {},
   "outputs": [
    {
     "name": "stdout",
     "output_type": "stream",
     "text": [
      "(80000, 20) (20000, 20)\n",
      "(80000,) (20000,)\n"
     ]
    }
   ],
   "source": [
    "X = features[samples_idx]\n",
    "y = targets[samples_idx]\n",
    "\n",
    "X, X_test, y, y_test = train_test_split(X, y, test_size=0.2)\n",
    "print X.shape, X_test.shape\n",
    "print y.shape, y_test.shape"
   ]
  },
  {
   "cell_type": "code",
   "execution_count": 44,
   "metadata": {
    "collapsed": true
   },
   "outputs": [],
   "source": [
    "def scorer(est, X, y):\n",
    "    y_hat = est.predict(X)\n",
    "    loss = []\n",
    "    for yi, yj in zip(y, y_hat):\n",
    "        diff = np.log(yi + 1.0) - np.log(yj + 1.0)\n",
    "        loss.append(diff ** 2)\n",
    "    return -np.sqrt(np.mean(loss))"
   ]
  },
  {
   "cell_type": "code",
   "execution_count": 45,
   "metadata": {
    "collapsed": true
   },
   "outputs": [],
   "source": [
    "from sklearn.ensemble import AdaBoostRegressor"
   ]
  },
  {
   "cell_type": "code",
   "execution_count": 46,
   "metadata": {
    "collapsed": true
   },
   "outputs": [],
   "source": [
    "tree = DecisionTreeRegressor(criterion='mse', max_features=None, \n",
    "                             max_depth=40, min_samples_leaf=50)\n",
    "regressor = AdaBoostRegressor(base_estimator=tree, n_estimators=150,\n",
    "                              learning_rate=1.0, loss='square')"
   ]
  },
  {
   "cell_type": "code",
   "execution_count": 47,
   "metadata": {},
   "outputs": [
    {
     "name": "stdout",
     "output_type": "stream",
     "text": [
      "CV Round: 1, Validn. loss: 0.458815361397\n",
      "CV Round: 2, Validn. loss: 0.486402741091\n",
      "CV Round: 3, Validn. loss: 0.486570649873\n",
      "CV Round: 4, Validn. loss: 0.486672509324\n",
      "CV Round: 5, Validn. loss: 0.474148824516\n",
      "CV Round: 6, Validn. loss: 0.47256744631\n",
      "CV Round: 7, Validn. loss: 0.48253893019\n",
      "CV Round: 8, Validn. loss: 0.483489261268\n",
      "CV Round: 9, Validn. loss: 0.476742226988\n",
      "CV Round: 10, Validn. loss: 0.470324271348\n"
     ]
    }
   ],
   "source": [
    "kf = KFold(n_splits=10, shuffle=True)\n",
    "\n",
    "val_loss = []\n",
    "cv_round = 1\n",
    "\n",
    "for train_idx, valid_idx in kf.split(X):\n",
    "    regressor.fit(X[train_idx], y[train_idx])\n",
    "    score = scorer(regressor, X[valid_idx], y[valid_idx]) * -1\n",
    "    print 'CV Round: {}, Validn. loss: {}'.format(cv_round, score)\n",
    "    val_loss.append(score)\n",
    "    cv_round += 1"
   ]
  },
  {
   "cell_type": "code",
   "execution_count": 48,
   "metadata": {
    "collapsed": true
   },
   "outputs": [],
   "source": [
    "def rmsle(y, y_hat):\n",
    "    loss = []\n",
    "    for yi, yj in zip(y, y_hat):\n",
    "        diff = np.log(yi + 1.0) - np.log(yj + 1.0)\n",
    "        loss.append(diff ** 2)\n",
    "    return np.sqrt(np.mean(loss))"
   ]
  },
  {
   "cell_type": "code",
   "execution_count": 49,
   "metadata": {},
   "outputs": [],
   "source": [
    "train_errors = []\n",
    "test_errors = []\n",
    "\n",
    "for _y, _yh in zip(regressor.staged_predict(X), regressor.staged_predict(X_test)):\n",
    "    train_error = rmsle(_y, y)\n",
    "    test_error = rmsle(_yh, y_test)\n",
    "    train_errors.append(train_error)\n",
    "    test_errors.append(test_error)"
   ]
  },
  {
   "cell_type": "code",
   "execution_count": 50,
   "metadata": {},
   "outputs": [
    {
     "data": {
      "image/png": "[encoded data removed]",
      "text/plain": [
       "<matplotlib.figure.Figure at 0x10c3bbe10>"
      ]
     },
     "metadata": {},
     "output_type": "display_data"
    }
   ],
   "source": [
    "plt.plot(range(len(regressor.estimators_)), train_errors, label='train')\n",
    "plt.plot(range(len(regressor.estimators_)), test_errors, label='test')\n",
    "plt.legend()\n",
    "plt.show()"
   ]
  },
  {
   "cell_type": "code",
   "execution_count": 21,
   "metadata": {
    "collapsed": true
   },
   "outputs": [],
   "source": [
    "test_features = preprocess(TEST_FILE)"
   ]
  },
  {
   "cell_type": "code",
   "execution_count": 22,
   "metadata": {
    "collapsed": true
   },
   "outputs": [],
   "source": [
    "test_features['bearing'] = test_features['bearing'] * 360"
   ]
  },
  {
   "cell_type": "code",
   "execution_count": 23,
   "metadata": {
    "collapsed": true
   },
   "outputs": [],
   "source": [
    "test_ = test_features[[u'vendor_id', \n",
    "       u'passenger_count', u'pickup_hr', u'pickup_min', u'pickup_sec',\n",
    "       u'pickup_day', u'pickup_date', u'pickup_mon', u'weekday',\n",
    "       u'holiday', u'st_dist', u'h_dist', u'bearing',\n",
    "       u's_pickup_latitude', u's_pickup_longitude', u's_dropoff_latitude',\n",
    "       u's_dropoff_longitude', u'flag', u'month_end', u'month_start']]"
   ]
  },
  {
   "cell_type": "code",
   "execution_count": 24,
   "metadata": {
    "collapsed": true
   },
   "outputs": [],
   "source": [
    "pred = regressor.predict(test_)"
   ]
  },
  {
   "cell_type": "code",
   "execution_count": 27,
   "metadata": {
    "collapsed": true
   },
   "outputs": [],
   "source": [
    "with open('predictions.txt', 'w') as _file:\n",
    "    _file.write('id,trip_duration\\n')\n",
    "    for tid, p in zip(test_features['id'], pred):\n",
    "        _file.write('{},{}\\n'.format(tid, p))"
   ]
  },
  {
   "cell_type": "code",
   "execution_count": 28,
   "metadata": {},
   "outputs": [
    {
     "data": {
      "text/plain": [
       "-0.45365612936521915"
      ]
     },
     "execution_count": 28,
     "metadata": {},
     "output_type": "execute_result"
    }
   ],
   "source": [
    "scorer(regressor, X_test, y_test)"
   ]
  }
 ],
 "metadata": {
  "kernelspec": {
   "display_name": "Python 2",
   "language": "python",
   "name": "python2"
  },
  "language_info": {
   "codemirror_mode": {
    "name": "ipython",
    "version": 2
   },
   "file_extension": ".py",
   "mimetype": "text/x-python",
   "name": "python",
   "nbconvert_exporter": "python",
   "pygments_lexer": "ipython2",
   "version": "2.7.13"
  }
 },
 "nbformat": 4,
 "nbformat_minor": 2
}
