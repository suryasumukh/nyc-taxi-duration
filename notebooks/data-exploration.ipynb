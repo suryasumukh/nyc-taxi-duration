{
  "metadata": {
    "kernelspec": {
      "display_name": "Python 3",
      "language": "python",
      "name": "python3"
    },
    "language_info": {
      "name": "python",
      "version": "3.6.1",
      "mimetype": "text/x-python",
      "codemirror_mode": {
        "name": "ipython",
        "version": 3
      },
      "pygments_lexer": "ipython3",
      "nbconvert_exporter": "python",
      "file_extension": ".py"
    }
  },
  "nbformat": 4,
  "cells": [
    {
      "metadata": {
        "collapsed": true,
        "_uuid": "4bb3020912e442c3905054d0454a46fe160be252",
        "_cell_guid": "042d2bde-2a61-467d-9cfd-04fb5c12440b",
        "trusted": false
      },
      "outputs": [],
      "source": "%matplotlib inline\nfrom matplotlib import pyplot as plt\n\nimport numpy as np\nimport pandas as pd\nimport os",
      "cell_type": "code",
      "execution_count": null
    },
    {
      "metadata": {
        "collapsed": true,
        "_uuid": "b5c242e6ae7fd24ffdc92220bb05b73165e35107",
        "_cell_guid": "5b08f131-ac0f-4ea0-851b-46f6d8f6ef88",
        "trusted": false
      },
      "outputs": [],
      "source": "DATA_FILE = os.path.join('../data', 'train.csv')",
      "cell_type": "code",
      "execution_count": null
    },
    {
      "metadata": {
        "collapsed": true,
        "_uuid": "0b50d241febd8bf1e98f6866af58e0e8bb7e3032",
        "_cell_guid": "6f20482f-1e60-4e4e-a6fa-5dccecf27489",
        "trusted": false
      },
      "outputs": [],
      "source": "data = pd.read_csv(DATA_FILE, parse_dates=['pickup_datetime', 'dropoff_datetime'])",
      "cell_type": "code",
      "execution_count": null
    },
    {
      "metadata": {
        "_uuid": "cf59722eeae9d555f2887ccb641290082f42703c",
        "_cell_guid": "0cb58176-9d22-4bc7-b447-7bf5b06b05b6",
        "trusted": false
      },
      "outputs": [],
      "source": "data.iloc[0:5]",
      "cell_type": "code",
      "execution_count": null
    },
    {
      "metadata": {
        "_uuid": "0f5eb47cf9c757b17cf216c344a700f1bad43e9b",
        "_cell_guid": "899634a6-82be-4cd9-8bd0-a37e509610ae",
        "trusted": false
      },
      "outputs": [],
      "source": "data.columns",
      "cell_type": "code",
      "execution_count": null
    },
    {
      "metadata": {
        "collapsed": true,
        "_uuid": "4d7cf51253ee213804dcec88a14b33a13fdbce5d",
        "_cell_guid": "9bfd91f4-1388-4a68-b24f-2346aa6e564f",
        "trusted": false
      },
      "outputs": [],
      "source": "data['pickup_hr'] = data['pickup_datetime'].dt.hour\ndata['pickup_min'] = data['pickup_datetime'].dt.minute\ndata['pickup_sec'] = data['pickup_datetime'].dt.second\ndata['pickup_day'] = data['pickup_datetime'].dt.dayofweek\ndata['pickup_date'] = data['pickup_datetime'].dt.day\ndata['pickup_mon'] = data['pickup_datetime'].dt.month\ndata['pickup_yr'] = data['pickup_datetime'].dt.year",
      "cell_type": "code",
      "execution_count": null
    },
    {
      "metadata": {
        "collapsed": true,
        "_uuid": "2e7a36d0989a3840130cb0d939e4f60e87e5c519",
        "_cell_guid": "521783e6-e94b-4585-a44c-6b7e47e833c4",
        "trusted": false
      },
      "outputs": [],
      "source": "data = data.assign(st_dist=lambda df: np.sqrt((df.pickup_longitude-df.dropoff_longitude)**2 + \n                                       (df.pickup_latitude-df.dropoff_latitude)**2))",
      "cell_type": "code",
      "execution_count": null
    },
    {
      "metadata": {
        "_uuid": "425fa4d7ffd47529d886cbb7f7e6a6fb0ca895e0",
        "_cell_guid": "cf856b5f-40ce-4bae-995f-2388f54c76cf",
        "trusted": false
      },
      "outputs": [],
      "source": "data.columns",
      "cell_type": "code",
      "execution_count": null
    },
    {
      "metadata": {
        "_uuid": "bd360ce4331531080eb1b370c861825f869d3d5a",
        "_cell_guid": "6aee1ba4-316d-46e1-b4ab-00f6d3804591",
        "trusted": false
      },
      "outputs": [],
      "source": "plt.subplot(2, 1, 1)\nplt.plot(data['pickup_longitude'], data['pickup_latitude'], 'r.')\nplt.ylabel('latitude')\nplt.title('Pickup')\nplt.subplot(2, 1, 2)\nplt.plot(data['dropoff_longitude'], data['dropoff_latitude'], 'b.')\nplt.ylabel('latitude')\nplt.xlabel('longitude')\nplt.title('Dropoff')\nplt.show()",
      "cell_type": "code",
      "execution_count": null
    },
    {
      "metadata": {
        "collapsed": true,
        "_uuid": "8c09d10b034205a3a14245fb22c753a1e76013e1",
        "_cell_guid": "5348f663-6dfd-4368-aa3e-6d275e49700a",
        "trusted": false
      },
      "outputs": [],
      "source": "data['s_pickup_latitude'] = (data['pickup_latitude'] - data['pickup_latitude'].min())/(data['pickup_latitude'].max() - data['pickup_latitude'].min())\ndata['s_pickup_longitude'] = (data['pickup_longitude'] - data['pickup_longitude'].min())/(data['pickup_longitude'].max() - data['pickup_longitude'].min())\n\ndata['s_dropoff_latitude'] = (data['dropoff_latitude'] - data['dropoff_latitude'].min())/(data['dropoff_latitude'].max() - data['dropoff_latitude'].min())\ndata['s_dropoff_longitude'] = (data['dropoff_longitude'] - data['dropoff_longitude'].min())/(data['dropoff_longitude'].max() - data['dropoff_longitude'].min())",
      "cell_type": "code",
      "execution_count": null
    },
    {
      "metadata": {
        "_uuid": "0e4394e0f486b6bef799340a48f8f9c9128c0aff",
        "_cell_guid": "0691aa92-2234-4ac3-af72-24b0aa9773af",
        "trusted": false
      },
      "outputs": [],
      "source": "plt.subplot(2, 1, 1)\nplt.plot(data['s_pickup_longitude'], data['s_pickup_latitude'], 'r.')\nplt.ylabel('latitude')\nplt.title('Pickup')\nplt.subplot(2, 1, 2)\nplt.plot(data['s_dropoff_longitude'], data['s_dropoff_latitude'], 'b.')\nplt.ylabel('latitude')\nplt.xlabel('longitude')\nplt.title('Dropoff')\nplt.show()",
      "cell_type": "code",
      "execution_count": null
    },
    {
      "metadata": {
        "collapsed": true,
        "_uuid": "3bb5294722f709b3514e3df3b8bda32b49c1511b",
        "_cell_guid": "780bae18-f5aa-4839-a537-e66050cd808d",
        "trusted": false
      },
      "outputs": [],
      "source": "data['flag'] = (data['store_and_fwd_flag'] == 'Y').astype(int)",
      "cell_type": "code",
      "execution_count": null
    },
    {
      "metadata": {
        "collapsed": true,
        "_uuid": "7d175644945a00295cf9f4e51a7826f8f53f7982",
        "_cell_guid": "a78ad55e-432b-4006-9f79-c9c9d8de21d5",
        "trusted": false
      },
      "outputs": [],
      "source": "data['month_end'] = (data['pickup_datetime'].dt.is_month_end).astype(int)\ndata['month_start'] = (data['pickup_datetime'].dt.is_month_start).astype(int)",
      "cell_type": "code",
      "execution_count": null
    },
    {
      "metadata": {
        "_uuid": "1b5a94136d3b45eb53a4eabc9a6b94616c0bd139",
        "_cell_guid": "3946a82e-f061-4972-b777-e000369a7efc",
        "trusted": false
      },
      "outputs": [],
      "source": "data['month_start'].hist()",
      "cell_type": "code",
      "execution_count": null
    },
    {
      "metadata": {
        "_uuid": "d5c111bc9f0cf8052aa03e923894f6ff473dacaa",
        "_cell_guid": "db16d88b-fbd6-408c-b73d-412932587b23",
        "trusted": false
      },
      "outputs": [],
      "source": "plt.subplot(2, 1, 1)\nplt.plot(data['trip_duration'][:1000], data['month_end'][:1000], 'r.')\n\nplt.subplot(2, 1, 2)\nplt.plot(data['trip_duration'][:1000], data['month_start'][:1000], 'b.')\n\nplt.show()",
      "cell_type": "code",
      "execution_count": null
    },
    {
      "metadata": {
        "_uuid": "ada00350646599b859ab55093c0c6b09b4e4bc9d",
        "_cell_guid": "63432107-94d6-4a12-b6ca-f14496ced815",
        "trusted": false
      },
      "outputs": [],
      "source": "data['flag'].hist()",
      "cell_type": "code",
      "execution_count": null
    },
    {
      "metadata": {
        "_uuid": "89afc6c9f94a08833bff8ac654069731d5cf91cd",
        "_cell_guid": "67e2cc9e-8004-4327-8bcb-dd63227b7cf3",
        "trusted": false
      },
      "outputs": [],
      "source": "data['pickup_yr'].hist()",
      "cell_type": "code",
      "execution_count": null
    },
    {
      "metadata": {
        "collapsed": true,
        "_uuid": "83fa68fbf6224ed17261234b3dadd27eeae9dc7a",
        "_cell_guid": "f4c8f880-870c-4299-9c52-f7c5ead3f656",
        "trusted": false
      },
      "outputs": [],
      "source": "from pandas.tseries.holiday import USFederalHolidayCalendar\nfrom datetime import datetime",
      "cell_type": "code",
      "execution_count": null
    },
    {
      "metadata": {
        "collapsed": true,
        "_uuid": "f053dc04a0156a7c44583acf1fb57768e9ba18f7",
        "_cell_guid": "4a5a110e-a361-432c-8d92-e3760b96da69",
        "trusted": false
      },
      "outputs": [],
      "source": "cal = USFederalHolidayCalendar()\nholidays = cal.holidays(start=datetime(2015, 12, 31), end=datetime(2017, 1, 1))\n\ndata['holiday'] = (data['pickup_datetime'].dt.date.astype('datetime64[ns]').isin(holidays)).astype(int)",
      "cell_type": "code",
      "execution_count": null
    },
    {
      "metadata": {
        "_uuid": "22bb17333c80e7f8f90063862d41d0aafe2e6a57",
        "_cell_guid": "f8c61fc1-27c5-4230-a52f-f64e858b5cc7",
        "trusted": false
      },
      "outputs": [],
      "source": "data['holiday'].hist()",
      "cell_type": "code",
      "execution_count": null
    },
    {
      "metadata": {
        "collapsed": true,
        "_uuid": "5e4f4c918e1237943ca82702c972b1342003f5a5",
        "_cell_guid": "7e8e688b-9e50-4598-ae8e-fbf1e48dfc23",
        "trusted": false
      },
      "outputs": [],
      "source": "from haversine import haversine\n\ndef haversine_dist(pos):\n    p1 = (pos[0], pos[1])\n    p2 = (pos[2], pos[1])\n    p3 = (pos[2], pos[3])\n    dist = haversine(p1, p2) + haversine(p2, p3)\n    dist /= 1000\n    return dist",
      "cell_type": "code",
      "execution_count": null
    },
    {
      "metadata": {
        "collapsed": true,
        "_uuid": "c3f194604a209105569a06c55fb480ee2301d19b",
        "_cell_guid": "8aa9cebe-0c4a-4e86-8561-be9e77667213",
        "trusted": false
      },
      "outputs": [],
      "source": "positions = data[['pickup_latitude', 'pickup_longitude', 'dropoff_latitude', 'dropoff_longitude']]\ndata['h_dist'] = map(lambda p: haversine_dist(p), positions.as_matrix())",
      "cell_type": "code",
      "execution_count": null
    },
    {
      "metadata": {
        "_uuid": "7351e2e903c2a22512559bf009de7edd22ba17f2",
        "_cell_guid": "a1b8ed51-4d7d-4297-996d-f3b875813270",
        "trusted": false
      },
      "outputs": [],
      "source": "data['h_dist'].hist(bins=50)",
      "cell_type": "code",
      "execution_count": null
    },
    {
      "metadata": {
        "_uuid": "936617356bdad3f81cfd92e254d0769d2ada048a",
        "_cell_guid": "64abdc0f-faaf-43e9-9365-0c5523f9d79a",
        "trusted": false
      },
      "outputs": [],
      "source": "from matplotlib import pyplot as plt\n\nplt.hist(data['h_dist'], bins=50, normed=True, range=(-0.001, 0.04))\nplt.hist(data['h_dist'], bins=50, normed=True, range=(0.04, 1))\nplt.hist(data['h_dist'], bins=50, normed=True, range=(1, 1.4))\nplt.show()",
      "cell_type": "code",
      "execution_count": null
    },
    {
      "metadata": {
        "_uuid": "e018c6e0f6ab07a8cdb211c6790b635d4fc251d9",
        "_cell_guid": "629d8d94-70fb-474c-a8ab-3c5762b898b9",
        "trusted": false
      },
      "outputs": [],
      "source": "def travel_direction(positions):\n    y = positions[1] - positions[3]\n    x = positions[0] - positions[2]\n    deg = np.degrees(np.arctan2(y, x))\n    return np.round(deg, 2)\n\nprint travel_direction([40.738564, -73.980415, 40.731152, -73.999481])",
      "cell_type": "code",
      "execution_count": null
    },
    {
      "metadata": {
        "collapsed": true,
        "_uuid": "c5f16bddcaa43d4c33917a9b5c76b0c154a423e8",
        "_cell_guid": "7a386d2c-106e-4a27-b5ac-7221df79841d",
        "trusted": false
      },
      "outputs": [],
      "source": "data['travel_direction'] = map(lambda x: travel_direction(x), positions.as_matrix())",
      "cell_type": "code",
      "execution_count": null
    },
    {
      "metadata": {
        "_uuid": "c09e4bff9b1f22444fcd40f2b4c14bf8f0b942f1",
        "_cell_guid": "c402b10e-a81b-49b5-b6c8-cc816c57ae66",
        "trusted": false
      },
      "outputs": [],
      "source": "data['travel_direction'].hist(bins=25)",
      "cell_type": "code",
      "execution_count": null
    },
    {
      "metadata": {
        "collapsed": true,
        "_uuid": "117c56dc807997ba5e795b4261c9458cf6c717fb",
        "_cell_guid": "2acc1d22-18c2-481a-95a0-a75d5e188ec5",
        "trusted": false
      },
      "outputs": [],
      "source": "df1 = data[['pickup_longitude', 'pickup_latitude']].as_matrix()\ndf2 = data[['dropoff_longitude', 'dropoff_latitude']].as_matrix()\nfeatures = np.vstack([df1, df2])",
      "cell_type": "code",
      "execution_count": null
    },
    {
      "metadata": {
        "collapsed": true,
        "_uuid": "5a1a695f4ce8c4ba19d64ba89e5a2a9ec232559e",
        "_cell_guid": "82ba19f2-06e1-4e71-8bfb-90ebd04410e1",
        "trusted": false
      },
      "outputs": [],
      "source": "from sklearn.cluster import MiniBatchKMeans",
      "cell_type": "code",
      "execution_count": null
    },
    {
      "metadata": {
        "collapsed": true,
        "_uuid": "a512bf07ada4d063077e8d9fe9f0a0034418fe0e",
        "_cell_guid": "18d539dd-77fe-4751-990e-d70ddb12b3c2",
        "trusted": false
      },
      "outputs": [],
      "source": "cluster = MiniBatchKMeans(n_clusters=16, max_iter=500, batch_size=100000, verbose=0, compute_labels=True, \n                          random_state=None, tol=0.0, max_no_improvement=10, n_init=3, reassignment_ratio=0.005)",
      "cell_type": "code",
      "execution_count": null
    },
    {
      "metadata": {
        "_uuid": "148da8d5c2e535a6a088e9d85d94af57ac99af2f",
        "_cell_guid": "7ce27811-3b2f-44df-a557-95c5f0b99010",
        "trusted": false
      },
      "outputs": [],
      "source": "cluster.fit(features)",
      "cell_type": "code",
      "execution_count": null
    },
    {
      "metadata": {
        "_uuid": "5e98b7dd0bd596ae670359bd5f716de2fc443a92",
        "_cell_guid": "abb62050-7b5c-43c3-b20a-d848df44dfbf",
        "trusted": false
      },
      "outputs": [],
      "source": "plt.hist(cluster.labels_, bins=50)",
      "cell_type": "code",
      "execution_count": null
    },
    {
      "metadata": {
        "collapsed": true,
        "_uuid": "a0be05e2f53b656ea4893219e0ff5e09a0cdff5f",
        "_cell_guid": "a9a39588-9d30-4d29-bb7c-e7052f122b29",
        "trusted": false
      },
      "outputs": [],
      "source": "data['pickup_cluster_label'] = cluster.predict(data[['pickup_longitude', 'pickup_latitude']])\ndata['dropoff_cluster_label'] = cluster.predict(data[['dropoff_longitude', 'dropoff_latitude']])",
      "cell_type": "code",
      "execution_count": null
    },
    {
      "metadata": {
        "collapsed": true,
        "_uuid": "27dc09249568361b1aa0277c752ced79c1b5a3f1",
        "_cell_guid": "28d5d640-e5fb-40a1-a5e8-decd2c0a9956",
        "trusted": false
      },
      "outputs": [],
      "source": "idx = data['pickup_cluster_label'].as_matrix()\ndata['pickup_cluster_longitude'] = cluster.cluster_centers_[idx][:, 0]\ndata['pickup_cluster_latitude'] = cluster.cluster_centers_[idx][:, 1]\n\nidx = data['dropoff_cluster_label'].as_matrix()\ndata['dropoff_cluster_longitude'] = cluster.cluster_centers_[idx][:, 0]\ndata['dropoff_cluster_latitude'] = cluster.cluster_centers_[idx][:, 1]",
      "cell_type": "code",
      "execution_count": null
    },
    {
      "metadata": {
        "collapsed": true,
        "_uuid": "5c37539d3227c780f7954b1453d3358c4a8e2fe4",
        "_cell_guid": "b397111d-f72f-4d82-af64-d88e33d4094a",
        "trusted": false
      },
      "outputs": [],
      "source": "positions = data[['pickup_cluster_latitude', 'pickup_cluster_longitude', \n                  'dropoff_cluster_latitude', 'dropoff_cluster_longitude']]\ndata['cluster_dist'] = map(lambda p: haversine_dist(p), positions.as_matrix())",
      "cell_type": "code",
      "execution_count": null
    },
    {
      "metadata": {
        "_uuid": "ba79b81f05c8cf54e1bf73977763f1dffce57633",
        "_cell_guid": "5c588a59-3302-49d8-8300-0ce36059730e",
        "trusted": false
      },
      "outputs": [],
      "source": "data.head()",
      "cell_type": "code",
      "execution_count": null
    },
    {
      "metadata": {
        "_uuid": "a3fe4df4aec47b1d9878739186f1849ef4fb8098",
        "_cell_guid": "3f22d65e-b573-4508-b087-7eae881667af",
        "trusted": false
      },
      "outputs": [],
      "source": "traffic = data[['pickup_cluster_label', 'dropoff_cluster_label', 'pickup_hr', \n                'pickup_mon', 'pickup_date']]\ntraffic['val'] = np.ones(traffic.shape[0])",
      "cell_type": "code",
      "execution_count": null
    },
    {
      "metadata": {
        "collapsed": true,
        "_uuid": "a3a987d31c28e6305990893c30f35d835c8c119e",
        "_cell_guid": "091ef107-7d92-4a89-b345-6cb1453f2f62",
        "trusted": false
      },
      "outputs": [],
      "source": "grp = traffic.groupby(['pickup_mon', 'pickup_date', 'pickup_hr', \n                       'dropoff_cluster_label']).agg('count')",
      "cell_type": "code",
      "execution_count": null
    },
    {
      "metadata": {
        "scrolled": true,
        "_uuid": "aa1d91f0d67612af7f442f1227d021fecb210341",
        "_cell_guid": "0b5cd85a-2beb-44e0-b606-20f555c29fbc",
        "trusted": false
      },
      "outputs": [],
      "source": "grp",
      "cell_type": "code",
      "execution_count": null
    },
    {
      "metadata": {
        "_uuid": "950f87213dbe2e95af25e4812a81864233ea5a1d",
        "_cell_guid": "720d4ed9-41bc-4a87-ae4c-8a89c329cb3c",
        "trusted": false
      },
      "outputs": [],
      "source": "type(grp)",
      "cell_type": "code",
      "execution_count": null
    },
    {
      "metadata": {
        "collapsed": true,
        "_uuid": "a77a91689505edd10e800e6ff5dfa678482caabd",
        "_cell_guid": "6e49534b-224c-43f0-ac36-e124a7b099be",
        "trusted": false
      },
      "outputs": [],
      "source": "",
      "cell_type": "code",
      "execution_count": null
    }
  ],
  "nbformat_minor": 2
}