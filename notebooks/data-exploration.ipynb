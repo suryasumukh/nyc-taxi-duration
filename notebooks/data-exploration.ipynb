{
 "cells": [
  {
   "cell_type": "code",
   "execution_count": 1,
   "metadata": {
    "_cell_guid": "042d2bde-2a61-467d-9cfd-04fb5c12440b",
    "_uuid": "4bb3020912e442c3905054d0454a46fe160be252",
    "collapsed": true
   },
   "outputs": [],
   "source": [
    "%matplotlib inline\n",
    "from matplotlib import pyplot as plt\n",
    "\n",
    "import numpy as np\n",
    "import pandas as pd\n",
    "import os"
   ]
  },
  {
   "cell_type": "code",
   "execution_count": 39,
   "metadata": {},
   "outputs": [],
   "source": [
    "import pickle"
   ]
  },
  {
   "cell_type": "code",
   "execution_count": 2,
   "metadata": {
    "_cell_guid": "5b08f131-ac0f-4ea0-851b-46f6d8f6ef88",
    "_uuid": "b5c242e6ae7fd24ffdc92220bb05b73165e35107",
    "collapsed": true
   },
   "outputs": [],
   "source": [
    "DATA_FILE = os.path.join('../data', 'train.csv')"
   ]
  },
  {
   "cell_type": "code",
   "execution_count": 3,
   "metadata": {
    "_cell_guid": "6f20482f-1e60-4e4e-a6fa-5dccecf27489",
    "_uuid": "0b50d241febd8bf1e98f6866af58e0e8bb7e3032",
    "collapsed": true
   },
   "outputs": [],
   "source": [
    "data = pd.read_csv(DATA_FILE, parse_dates=['pickup_datetime', 'dropoff_datetime'])"
   ]
  },
  {
   "cell_type": "code",
   "execution_count": 4,
   "metadata": {
    "_cell_guid": "0cb58176-9d22-4bc7-b447-7bf5b06b05b6",
    "_uuid": "cf59722eeae9d555f2887ccb641290082f42703c"
   },
   "outputs": [
    {
     "data": {
      "text/html": [
       "<div>\n",
       "<style>\n",
       "    .dataframe thead tr:only-child th {\n",
       "        text-align: right;\n",
       "    }\n",
       "\n",
       "    .dataframe thead th {\n",
       "        text-align: left;\n",
       "    }\n",
       "\n",
       "    .dataframe tbody tr th {\n",
       "        vertical-align: top;\n",
       "    }\n",
       "</style>\n",
       "<table border=\"1\" class=\"dataframe\">\n",
       "  <thead>\n",
       "    <tr style=\"text-align: right;\">\n",
       "      <th></th>\n",
       "      <th>id</th>\n",
       "      <th>vendor_id</th>\n",
       "      <th>pickup_datetime</th>\n",
       "      <th>dropoff_datetime</th>\n",
       "      <th>passenger_count</th>\n",
       "      <th>pickup_longitude</th>\n",
       "      <th>pickup_latitude</th>\n",
       "      <th>dropoff_longitude</th>\n",
       "      <th>dropoff_latitude</th>\n",
       "      <th>store_and_fwd_flag</th>\n",
       "      <th>trip_duration</th>\n",
       "    </tr>\n",
       "  </thead>\n",
       "  <tbody>\n",
       "    <tr>\n",
       "      <th>0</th>\n",
       "      <td>id2875421</td>\n",
       "      <td>2</td>\n",
       "      <td>2016-03-14 17:24:55</td>\n",
       "      <td>2016-03-14 17:32:30</td>\n",
       "      <td>1</td>\n",
       "      <td>-73.982155</td>\n",
       "      <td>40.767937</td>\n",
       "      <td>-73.964630</td>\n",
       "      <td>40.765602</td>\n",
       "      <td>N</td>\n",
       "      <td>455</td>\n",
       "    </tr>\n",
       "    <tr>\n",
       "      <th>1</th>\n",
       "      <td>id2377394</td>\n",
       "      <td>1</td>\n",
       "      <td>2016-06-12 00:43:35</td>\n",
       "      <td>2016-06-12 00:54:38</td>\n",
       "      <td>1</td>\n",
       "      <td>-73.980415</td>\n",
       "      <td>40.738564</td>\n",
       "      <td>-73.999481</td>\n",
       "      <td>40.731152</td>\n",
       "      <td>N</td>\n",
       "      <td>663</td>\n",
       "    </tr>\n",
       "    <tr>\n",
       "      <th>2</th>\n",
       "      <td>id3858529</td>\n",
       "      <td>2</td>\n",
       "      <td>2016-01-19 11:35:24</td>\n",
       "      <td>2016-01-19 12:10:48</td>\n",
       "      <td>1</td>\n",
       "      <td>-73.979027</td>\n",
       "      <td>40.763939</td>\n",
       "      <td>-74.005333</td>\n",
       "      <td>40.710087</td>\n",
       "      <td>N</td>\n",
       "      <td>2124</td>\n",
       "    </tr>\n",
       "    <tr>\n",
       "      <th>3</th>\n",
       "      <td>id3504673</td>\n",
       "      <td>2</td>\n",
       "      <td>2016-04-06 19:32:31</td>\n",
       "      <td>2016-04-06 19:39:40</td>\n",
       "      <td>1</td>\n",
       "      <td>-74.010040</td>\n",
       "      <td>40.719971</td>\n",
       "      <td>-74.012268</td>\n",
       "      <td>40.706718</td>\n",
       "      <td>N</td>\n",
       "      <td>429</td>\n",
       "    </tr>\n",
       "    <tr>\n",
       "      <th>4</th>\n",
       "      <td>id2181028</td>\n",
       "      <td>2</td>\n",
       "      <td>2016-03-26 13:30:55</td>\n",
       "      <td>2016-03-26 13:38:10</td>\n",
       "      <td>1</td>\n",
       "      <td>-73.973053</td>\n",
       "      <td>40.793209</td>\n",
       "      <td>-73.972923</td>\n",
       "      <td>40.782520</td>\n",
       "      <td>N</td>\n",
       "      <td>435</td>\n",
       "    </tr>\n",
       "  </tbody>\n",
       "</table>\n",
       "</div>"
      ],
      "text/plain": [
       "          id  vendor_id     pickup_datetime    dropoff_datetime  \\\n",
       "0  id2875421          2 2016-03-14 17:24:55 2016-03-14 17:32:30   \n",
       "1  id2377394          1 2016-06-12 00:43:35 2016-06-12 00:54:38   \n",
       "2  id3858529          2 2016-01-19 11:35:24 2016-01-19 12:10:48   \n",
       "3  id3504673          2 2016-04-06 19:32:31 2016-04-06 19:39:40   \n",
       "4  id2181028          2 2016-03-26 13:30:55 2016-03-26 13:38:10   \n",
       "\n",
       "   passenger_count  pickup_longitude  pickup_latitude  dropoff_longitude  \\\n",
       "0                1        -73.982155        40.767937         -73.964630   \n",
       "1                1        -73.980415        40.738564         -73.999481   \n",
       "2                1        -73.979027        40.763939         -74.005333   \n",
       "3                1        -74.010040        40.719971         -74.012268   \n",
       "4                1        -73.973053        40.793209         -73.972923   \n",
       "\n",
       "   dropoff_latitude store_and_fwd_flag  trip_duration  \n",
       "0         40.765602                  N            455  \n",
       "1         40.731152                  N            663  \n",
       "2         40.710087                  N           2124  \n",
       "3         40.706718                  N            429  \n",
       "4         40.782520                  N            435  "
      ]
     },
     "execution_count": 4,
     "metadata": {},
     "output_type": "execute_result"
    }
   ],
   "source": [
    "data.iloc[0:5]"
   ]
  },
  {
   "cell_type": "code",
   "execution_count": 5,
   "metadata": {
    "_cell_guid": "899634a6-82be-4cd9-8bd0-a37e509610ae",
    "_uuid": "0f5eb47cf9c757b17cf216c344a700f1bad43e9b"
   },
   "outputs": [
    {
     "data": {
      "text/plain": [
       "Index([u'id', u'vendor_id', u'pickup_datetime', u'dropoff_datetime',\n",
       "       u'passenger_count', u'pickup_longitude', u'pickup_latitude',\n",
       "       u'dropoff_longitude', u'dropoff_latitude', u'store_and_fwd_flag',\n",
       "       u'trip_duration'],\n",
       "      dtype='object')"
      ]
     },
     "execution_count": 5,
     "metadata": {},
     "output_type": "execute_result"
    }
   ],
   "source": [
    "data.columns"
   ]
  },
  {
   "cell_type": "code",
   "execution_count": 6,
   "metadata": {
    "_cell_guid": "9bfd91f4-1388-4a68-b24f-2346aa6e564f",
    "_uuid": "4d7cf51253ee213804dcec88a14b33a13fdbce5d",
    "collapsed": true
   },
   "outputs": [],
   "source": [
    "data['pickup_hr'] = data['pickup_datetime'].dt.hour\n",
    "data['pickup_min'] = data['pickup_datetime'].dt.minute\n",
    "data['pickup_sec'] = data['pickup_datetime'].dt.second\n",
    "data['pickup_day'] = data['pickup_datetime'].dt.dayofweek\n",
    "data['pickup_date'] = data['pickup_datetime'].dt.day\n",
    "data['pickup_mon'] = data['pickup_datetime'].dt.month\n",
    "data['pickup_yr'] = data['pickup_datetime'].dt.year"
   ]
  },
  {
   "cell_type": "code",
   "execution_count": 7,
   "metadata": {
    "collapsed": true
   },
   "outputs": [],
   "source": [
    "data = data.assign(pickup_longitude=lambda df: np.round(df.pickup_longitude, 4))\n",
    "data = data.assign(pickup_latitude=lambda df: np.round(df.pickup_latitude, 4))\n",
    "data = data.assign(dropoff_longitude=lambda df: np.round(df.dropoff_longitude, 4))\n",
    "data = data.assign(dropoff_latitude=lambda df: np.round(df.dropoff_latitude, 4))"
   ]
  },
  {
   "cell_type": "code",
   "execution_count": 8,
   "metadata": {
    "_cell_guid": "521783e6-e94b-4585-a44c-6b7e47e833c4",
    "_uuid": "2e7a36d0989a3840130cb0d939e4f60e87e5c519",
    "collapsed": true
   },
   "outputs": [],
   "source": [
    "data = data.assign(st_dist=lambda df: np.sqrt((df.pickup_longitude-df.dropoff_longitude)**2 + \n",
    "                                       (df.pickup_latitude-df.dropoff_latitude)**2))"
   ]
  },
  {
   "cell_type": "code",
   "execution_count": 9,
   "metadata": {
    "_cell_guid": "cf856b5f-40ce-4bae-995f-2388f54c76cf",
    "_uuid": "425fa4d7ffd47529d886cbb7f7e6a6fb0ca895e0"
   },
   "outputs": [
    {
     "data": {
      "text/plain": [
       "Index([u'id', u'vendor_id', u'pickup_datetime', u'dropoff_datetime',\n",
       "       u'passenger_count', u'pickup_longitude', u'pickup_latitude',\n",
       "       u'dropoff_longitude', u'dropoff_latitude', u'store_and_fwd_flag',\n",
       "       u'trip_duration', u'pickup_hr', u'pickup_min', u'pickup_sec',\n",
       "       u'pickup_day', u'pickup_date', u'pickup_mon', u'pickup_yr', u'st_dist'],\n",
       "      dtype='object')"
      ]
     },
     "execution_count": 9,
     "metadata": {},
     "output_type": "execute_result"
    }
   ],
   "source": [
    "data.columns"
   ]
  },
  {
   "cell_type": "code",
   "execution_count": 10,
   "metadata": {
    "_cell_guid": "6aee1ba4-316d-46e1-b4ab-00f6d3804591",
    "_uuid": "bd360ce4331531080eb1b370c861825f869d3d5a"
   },
   "outputs": [
    {
     "data": {
      "image/png": "[encoded data removed]",
      "text/plain": [
       "<matplotlib.figure.Figure at 0x113a5c990>"
      ]
     },
     "metadata": {},
     "output_type": "display_data"
    }
   ],
   "source": [
    "plt.subplot(2, 1, 1)\n",
    "plt.plot(data['pickup_longitude'], data['pickup_latitude'], 'r.')\n",
    "plt.ylabel('latitude')\n",
    "plt.title('Pickup')\n",
    "plt.subplot(2, 1, 2)\n",
    "plt.plot(data['dropoff_longitude'], data['dropoff_latitude'], 'b.')\n",
    "plt.ylabel('latitude')\n",
    "plt.xlabel('longitude')\n",
    "plt.title('Dropoff')\n",
    "plt.show()"
   ]
  },
  {
   "cell_type": "code",
   "execution_count": 11,
   "metadata": {
    "_cell_guid": "5348f663-6dfd-4368-aa3e-6d275e49700a",
    "_uuid": "8c09d10b034205a3a14245fb22c753a1e76013e1",
    "collapsed": true
   },
   "outputs": [],
   "source": [
    "data['s_pickup_latitude'] = (data['pickup_latitude'] - data['pickup_latitude'].min())/(data['pickup_latitude'].max() - data['pickup_latitude'].min())\n",
    "data['s_pickup_longitude'] = (data['pickup_longitude'] - data['pickup_longitude'].min())/(data['pickup_longitude'].max() - data['pickup_longitude'].min())\n",
    "\n",
    "data['s_dropoff_latitude'] = (data['dropoff_latitude'] - data['dropoff_latitude'].min())/(data['dropoff_latitude'].max() - data['dropoff_latitude'].min())\n",
    "data['s_dropoff_longitude'] = (data['dropoff_longitude'] - data['dropoff_longitude'].min())/(data['dropoff_longitude'].max() - data['dropoff_longitude'].min())"
   ]
  },
  {
   "cell_type": "code",
   "execution_count": 12,
   "metadata": {
    "_cell_guid": "0691aa92-2234-4ac3-af72-24b0aa9773af",
    "_uuid": "0e4394e0f486b6bef799340a48f8f9c9128c0aff"
   },
   "outputs": [
    {
     "data": {
      "image/png": "[encoded data removed]",
      "text/plain": [
       "<matplotlib.figure.Figure at 0x113a5c390>"
      ]
     },
     "metadata": {},
     "output_type": "display_data"
    }
   ],
   "source": [
    "plt.subplot(2, 1, 1)\n",
    "plt.plot(data['s_pickup_longitude'], data['s_pickup_latitude'], 'r.')\n",
    "plt.ylabel('latitude')\n",
    "plt.title('Pickup')\n",
    "plt.subplot(2, 1, 2)\n",
    "plt.plot(data['s_dropoff_longitude'], data['s_dropoff_latitude'], 'b.')\n",
    "plt.ylabel('latitude')\n",
    "plt.xlabel('longitude')\n",
    "plt.title('Dropoff')\n",
    "plt.show()"
   ]
  },
  {
   "cell_type": "code",
   "execution_count": 13,
   "metadata": {
    "_cell_guid": "780bae18-f5aa-4839-a537-e66050cd808d",
    "_uuid": "3bb5294722f709b3514e3df3b8bda32b49c1511b",
    "collapsed": true
   },
   "outputs": [],
   "source": [
    "data['flag'] = (data['store_and_fwd_flag'] == 'Y').astype(int)"
   ]
  },
  {
   "cell_type": "code",
   "execution_count": 14,
   "metadata": {
    "_cell_guid": "a78ad55e-432b-4006-9f79-c9c9d8de21d5",
    "_uuid": "7d175644945a00295cf9f4e51a7826f8f53f7982",
    "collapsed": true
   },
   "outputs": [],
   "source": [
    "data['month_end'] = (data['pickup_datetime'].dt.is_month_end).astype(int)\n",
    "data['month_start'] = (data['pickup_datetime'].dt.is_month_start).astype(int)"
   ]
  },
  {
   "cell_type": "code",
   "execution_count": 15,
   "metadata": {
    "_cell_guid": "3946a82e-f061-4972-b777-e000369a7efc",
    "_uuid": "1b5a94136d3b45eb53a4eabc9a6b94616c0bd139"
   },
   "outputs": [
    {
     "data": {
      "text/plain": [
       "<matplotlib.axes._subplots.AxesSubplot at 0x11a1613d0>"
      ]
     },
     "execution_count": 15,
     "metadata": {},
     "output_type": "execute_result"
    },
    {
     "data": {
      "image/png": "[encoded data removed]",
      "text/plain": [
       "<matplotlib.figure.Figure at 0x123449a50>"
      ]
     },
     "metadata": {},
     "output_type": "display_data"
    }
   ],
   "source": [
    "data['month_start'].hist()"
   ]
  },
  {
   "cell_type": "code",
   "execution_count": 16,
   "metadata": {
    "_cell_guid": "db16d88b-fbd6-408c-b73d-412932587b23",
    "_uuid": "d5c111bc9f0cf8052aa03e923894f6ff473dacaa"
   },
   "outputs": [
    {
     "data": {
      "image/png": "[encoded data removed]",
      "text/plain": [
       "<matplotlib.figure.Figure at 0x11dffa490>"
      ]
     },
     "metadata": {},
     "output_type": "display_data"
    }
   ],
   "source": [
    "plt.subplot(2, 1, 1)\n",
    "plt.plot(data['trip_duration'][:1000], data['month_end'][:1000], 'r.')\n",
    "\n",
    "plt.subplot(2, 1, 2)\n",
    "plt.plot(data['trip_duration'][:1000], data['month_start'][:1000], 'b.')\n",
    "\n",
    "plt.show()"
   ]
  },
  {
   "cell_type": "code",
   "execution_count": 17,
   "metadata": {
    "_cell_guid": "63432107-94d6-4a12-b6ca-f14496ced815",
    "_uuid": "ada00350646599b859ab55093c0c6b09b4e4bc9d"
   },
   "outputs": [
    {
     "data": {
      "text/plain": [
       "<matplotlib.axes._subplots.AxesSubplot at 0x117295390>"
      ]
     },
     "execution_count": 17,
     "metadata": {},
     "output_type": "execute_result"
    },
    {
     "data": {
      "image/png": "[encoded data removed]",
      "text/plain": [
       "<matplotlib.figure.Figure at 0x11728bd50>"
      ]
     },
     "metadata": {},
     "output_type": "display_data"
    }
   ],
   "source": [
    "data['flag'].hist()"
   ]
  },
  {
   "cell_type": "code",
   "execution_count": 18,
   "metadata": {
    "_cell_guid": "67e2cc9e-8004-4327-8bcb-dd63227b7cf3",
    "_uuid": "89afc6c9f94a08833bff8ac654069731d5cf91cd"
   },
   "outputs": [
    {
     "data": {
      "text/plain": [
       "<matplotlib.axes._subplots.AxesSubplot at 0x11532d310>"
      ]
     },
     "execution_count": 18,
     "metadata": {},
     "output_type": "execute_result"
    },
    {
     "data": {
      "image/png": "[encoded data removed]",
      "text/plain": [
       "<matplotlib.figure.Figure at 0x10f5c0b90>"
      ]
     },
     "metadata": {},
     "output_type": "display_data"
    }
   ],
   "source": [
    "data['pickup_yr'].hist()"
   ]
  },
  {
   "cell_type": "code",
   "execution_count": 19,
   "metadata": {
    "_cell_guid": "f4c8f880-870c-4299-9c52-f7c5ead3f656",
    "_uuid": "83fa68fbf6224ed17261234b3dadd27eeae9dc7a",
    "collapsed": true
   },
   "outputs": [],
   "source": [
    "from pandas.tseries.holiday import USFederalHolidayCalendar\n",
    "from datetime import datetime"
   ]
  },
  {
   "cell_type": "code",
   "execution_count": 20,
   "metadata": {
    "_cell_guid": "4a5a110e-a361-432c-8d92-e3760b96da69",
    "_uuid": "f053dc04a0156a7c44583acf1fb57768e9ba18f7",
    "collapsed": true
   },
   "outputs": [],
   "source": [
    "cal = USFederalHolidayCalendar()\n",
    "holidays = cal.holidays(start=datetime(2015, 12, 31), end=datetime(2017, 1, 1))\n",
    "\n",
    "data['holiday'] = (data['pickup_datetime'].dt.date.astype('datetime64[ns]').isin(holidays)).astype(int)"
   ]
  },
  {
   "cell_type": "code",
   "execution_count": 21,
   "metadata": {
    "_cell_guid": "f8c61fc1-27c5-4230-a52f-f64e858b5cc7",
    "_uuid": "22bb17333c80e7f8f90063862d41d0aafe2e6a57"
   },
   "outputs": [
    {
     "data": {
      "text/plain": [
       "<matplotlib.axes._subplots.AxesSubplot at 0x117279710>"
      ]
     },
     "execution_count": 21,
     "metadata": {},
     "output_type": "execute_result"
    },
    {
     "data": {
      "image/png": "[encoded data removed]",
      "text/plain": [
       "<matplotlib.figure.Figure at 0x10f5e6510>"
      ]
     },
     "metadata": {},
     "output_type": "display_data"
    }
   ],
   "source": [
    "data['holiday'].hist()"
   ]
  },
  {
   "cell_type": "code",
   "execution_count": 22,
   "metadata": {
    "_cell_guid": "7e8e688b-9e50-4598-ae8e-fbf1e48dfc23",
    "_uuid": "5e4f4c918e1237943ca82702c972b1342003f5a5",
    "collapsed": true
   },
   "outputs": [],
   "source": [
    "from haversine import haversine\n",
    "\n",
    "def haversine_dist(pos):\n",
    "    p1 = (pos[0], pos[1])\n",
    "    p2 = (pos[2], pos[1])\n",
    "    p3 = (pos[2], pos[3])\n",
    "    dist = haversine(p1, p2) + haversine(p2, p3)\n",
    "    return dist\n",
    "\n",
    "def bearing(pos):\n",
    "    lat1 = np.radians(pos[0])\n",
    "    lat2 = np.radians(pos[2])\n",
    "    \n",
    "    diffLong = np.radians(pos[1] - pos[3])\n",
    "    x = np.sin(diffLong) * np.cos(lat2)\n",
    "    y = np.cos(lat1) * np.sin(lat2) - (np.sin(lat1)\n",
    "            * np.cos(lat2) * np.cos(diffLong))\n",
    "\n",
    "    initial_bearing = np.arctan2(x, y)\n",
    "    initial_bearing = np.degrees(initial_bearing)\n",
    "    compass_bearing = (initial_bearing + 360) % 360\n",
    "\n",
    "    return compass_bearing"
   ]
  },
  {
   "cell_type": "code",
   "execution_count": 23,
   "metadata": {
    "_cell_guid": "8aa9cebe-0c4a-4e86-8561-be9e77667213",
    "_uuid": "c3f194604a209105569a06c55fb480ee2301d19b",
    "collapsed": true
   },
   "outputs": [],
   "source": [
    "positions = data[['pickup_latitude', 'pickup_longitude', 'dropoff_latitude', 'dropoff_longitude']]\n",
    "data['h_dist'] = map(lambda p: haversine_dist(p), positions.as_matrix())\n",
    "data['bearing'] = map(lambda p: bearing(p), positions.as_matrix())"
   ]
  },
  {
   "cell_type": "code",
   "execution_count": 24,
   "metadata": {
    "_cell_guid": "a1b8ed51-4d7d-4297-996d-f3b875813270",
    "_uuid": "7351e2e903c2a22512559bf009de7edd22ba17f2"
   },
   "outputs": [
    {
     "data": {
      "text/plain": [
       "<matplotlib.axes._subplots.AxesSubplot at 0x126d86c50>"
      ]
     },
     "execution_count": 24,
     "metadata": {},
     "output_type": "execute_result"
    },
    {
     "data": {
      "image/png": "[encoded data removed]",
      "text/plain": [
       "<matplotlib.figure.Figure at 0x1270e1910>"
      ]
     },
     "metadata": {},
     "output_type": "display_data"
    }
   ],
   "source": [
    "data['h_dist'].hist(bins=50)"
   ]
  },
  {
   "cell_type": "code",
   "execution_count": 25,
   "metadata": {
    "_cell_guid": "64abdc0f-faaf-43e9-9365-0c5523f9d79a",
    "_uuid": "936617356bdad3f81cfd92e254d0769d2ada048a"
   },
   "outputs": [
    {
     "data": {
      "image/png": "[encoded data removed]",
      "text/plain": [
       "<matplotlib.figure.Figure at 0x11a158890>"
      ]
     },
     "metadata": {},
     "output_type": "display_data"
    }
   ],
   "source": [
    "from matplotlib import pyplot as plt\n",
    "\n",
    "plt.hist(data['h_dist'], bins=50, normed=True, range=(-0.001, 0.04))\n",
    "plt.hist(data['h_dist'], bins=50, normed=True, range=(0.04, 1))\n",
    "plt.hist(data['h_dist'], bins=50, normed=True, range=(1, 1.4))\n",
    "plt.show()"
   ]
  },
  {
   "cell_type": "code",
   "execution_count": 27,
   "metadata": {
    "_cell_guid": "2acc1d22-18c2-481a-95a0-a75d5e188ec5",
    "_uuid": "117c56dc807997ba5e795b4261c9458cf6c717fb"
   },
   "outputs": [],
   "source": [
    "df1 = data[['pickup_longitude', 'pickup_latitude']].as_matrix()\n",
    "df2 = data[['dropoff_longitude', 'dropoff_latitude']].as_matrix()\n",
    "features = np.round(np.vstack([df1, df2]), 5)"
   ]
  },
  {
   "cell_type": "code",
   "execution_count": 28,
   "metadata": {
    "_cell_guid": "82ba19f2-06e1-4e71-8bfb-90ebd04410e1",
    "_uuid": "5a1a695f4ce8c4ba19d64ba89e5a2a9ec232559e",
    "collapsed": true
   },
   "outputs": [],
   "source": [
    "from sklearn.cluster import MiniBatchKMeans"
   ]
  },
  {
   "cell_type": "code",
   "execution_count": 29,
   "metadata": {
    "_cell_guid": "18d539dd-77fe-4751-990e-d70ddb12b3c2",
    "_uuid": "a512bf07ada4d063077e8d9fe9f0a0034418fe0e",
    "collapsed": true
   },
   "outputs": [],
   "source": [
    "cluster = MiniBatchKMeans(n_clusters=16, max_iter=500, batch_size=100000, verbose=0, compute_labels=True, \n",
    "                          random_state=None, tol=0.0, max_no_improvement=10, n_init=3, reassignment_ratio=0.005)"
   ]
  },
  {
   "cell_type": "code",
   "execution_count": 30,
   "metadata": {
    "_cell_guid": "7ce27811-3b2f-44df-a557-95c5f0b99010",
    "_uuid": "148da8d5c2e535a6a088e9d85d94af57ac99af2f"
   },
   "outputs": [
    {
     "data": {
      "text/plain": [
       "MiniBatchKMeans(batch_size=100000, compute_labels=True, init='k-means++',\n",
       "        init_size=None, max_iter=500, max_no_improvement=10, n_clusters=16,\n",
       "        n_init=3, random_state=None, reassignment_ratio=0.005, tol=0.0,\n",
       "        verbose=0)"
      ]
     },
     "execution_count": 30,
     "metadata": {},
     "output_type": "execute_result"
    }
   ],
   "source": [
    "cluster.fit(features)"
   ]
  },
  {
   "cell_type": "code",
   "execution_count": 31,
   "metadata": {
    "_cell_guid": "abb62050-7b5c-43c3-b20a-d848df44dfbf",
    "_uuid": "5e98b7dd0bd596ae670359bd5f716de2fc443a92"
   },
   "outputs": [
    {
     "data": {
      "image/png": "[encoded data removed]",
      "text/plain": [
       "<matplotlib.figure.Figure at 0x113d42f10>"
      ]
     },
     "metadata": {},
     "output_type": "display_data"
    }
   ],
   "source": [
    "_ = plt.hist(cluster.labels_, bins=50)\n",
    "plt.show()"
   ]
  },
  {
   "cell_type": "code",
   "execution_count": 32,
   "metadata": {
    "_cell_guid": "a9a39588-9d30-4d29-bb7c-e7052f122b29",
    "_uuid": "a0be05e2f53b656ea4893219e0ff5e09a0cdff5f",
    "collapsed": true
   },
   "outputs": [],
   "source": [
    "data['pickup_cluster_label'] = cluster.predict(data[['pickup_longitude', 'pickup_latitude']])\n",
    "data['dropoff_cluster_label'] = cluster.predict(data[['dropoff_longitude', 'dropoff_latitude']])"
   ]
  },
  {
   "cell_type": "code",
   "execution_count": 33,
   "metadata": {
    "_cell_guid": "28d5d640-e5fb-40a1-a5e8-decd2c0a9956",
    "_uuid": "27dc09249568361b1aa0277c752ced79c1b5a3f1",
    "collapsed": true
   },
   "outputs": [],
   "source": [
    "idx = data['pickup_cluster_label'].as_matrix()\n",
    "data['pickup_cluster_longitude'] = cluster.cluster_centers_[idx][:, 0]\n",
    "data['pickup_cluster_latitude'] = cluster.cluster_centers_[idx][:, 1]\n",
    "\n",
    "idx = data['dropoff_cluster_label'].as_matrix()\n",
    "data['dropoff_cluster_longitude'] = cluster.cluster_centers_[idx][:, 0]\n",
    "data['dropoff_cluster_latitude'] = cluster.cluster_centers_[idx][:, 1]"
   ]
  },
  {
   "cell_type": "code",
   "execution_count": 34,
   "metadata": {
    "_cell_guid": "b397111d-f72f-4d82-af64-d88e33d4094a",
    "_uuid": "5c37539d3227c780f7954b1453d3358c4a8e2fe4",
    "collapsed": true
   },
   "outputs": [],
   "source": [
    "positions = data[['pickup_cluster_latitude', 'pickup_cluster_longitude', \n",
    "                  'dropoff_cluster_latitude', 'dropoff_cluster_longitude']]\n",
    "data['cluster_dist'] = map(lambda p: haversine_dist(p), positions.as_matrix())"
   ]
  },
  {
   "cell_type": "code",
   "execution_count": 35,
   "metadata": {},
   "outputs": [
    {
     "data": {
      "image/png": "[encoded data removed]",
      "text/plain": [
       "<matplotlib.figure.Figure at 0x1142cf290>"
      ]
     },
     "metadata": {},
     "output_type": "display_data"
    }
   ],
   "source": [
    "_ = plt.hist(np.log(data['cluster_dist'] + 1.0), bins=25, normed=1)\n",
    "plt.show()"
   ]
  },
  {
   "cell_type": "code",
   "execution_count": 36,
   "metadata": {},
   "outputs": [
    {
     "data": {
      "image/png": "[encoded data removed]",
      "text/plain": [
       "<matplotlib.figure.Figure at 0x114406290>"
      ]
     },
     "metadata": {},
     "output_type": "display_data"
    }
   ],
   "source": [
    "_ = plt.hist(np.log(data['h_dist'] + 1.0), bins=50, normed=1)\n",
    "plt.show()"
   ]
  },
  {
   "cell_type": "code",
   "execution_count": 40,
   "metadata": {
    "collapsed": true
   },
   "outputs": [],
   "source": [
    "pickle.dump(cluster, open( \"cluster.p\", \"wb\" ))"
   ]
  },
  {
   "cell_type": "code",
   "execution_count": null,
   "metadata": {
    "collapsed": true
   },
   "outputs": [],
   "source": []
  }
 ],
 "metadata": {
  "kernelspec": {
   "display_name": "Python 2",
   "language": "python",
   "name": "python2"
  },
  "language_info": {
   "codemirror_mode": {
    "name": "ipython",
    "version": 2
   },
   "file_extension": ".py",
   "mimetype": "text/x-python",
   "name": "python",
   "nbconvert_exporter": "python",
   "pygments_lexer": "ipython2",
   "version": "2.7.13"
  }
 },
 "nbformat": 4,
 "nbformat_minor": 2
}
